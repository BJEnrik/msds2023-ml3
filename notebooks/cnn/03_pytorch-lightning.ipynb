{
 "cells": [
  {
   "cell_type": "code",
   "execution_count": 2,
   "id": "35428f0d",
   "metadata": {
    "ExecuteTime": {
     "end_time": "2023-04-24T02:37:15.547542Z",
     "start_time": "2023-04-24T02:37:15.540266Z"
    }
   },
   "outputs": [],
   "source": [
    "import torch\n",
    "import matplotlib.pyplot as plt\n",
    "import datetime\n",
    "from torchvision import transforms"
   ]
  },
  {
   "cell_type": "code",
   "execution_count": 3,
   "id": "0939ac8e",
   "metadata": {
    "ExecuteTime": {
     "end_time": "2023-04-24T02:37:16.560365Z",
     "start_time": "2023-04-24T02:37:16.493997Z"
    }
   },
   "outputs": [
    {
     "data": {
      "text/plain": [
       "True"
      ]
     },
     "execution_count": 3,
     "metadata": {},
     "output_type": "execute_result"
    }
   ],
   "source": [
    "torch.cuda.is_available()"
   ]
  },
  {
   "cell_type": "markdown",
   "id": "c10c7f63",
   "metadata": {},
   "source": [
    "# From PyTorch to PyTorch Lightning\n",
    "\n",
    "*COSCI 223: Machine Learning 3*\n",
    "\n",
    "## Review\n",
    "Let's review your first CNN architecture."
   ]
  },
  {
   "cell_type": "markdown",
   "id": "18869cbe",
   "metadata": {},
   "source": [
    "### Data Loading"
   ]
  },
  {
   "cell_type": "code",
   "execution_count": 4,
   "id": "8c9362f7",
   "metadata": {
    "ExecuteTime": {
     "end_time": "2023-04-24T02:37:21.003275Z",
     "start_time": "2023-04-24T02:37:18.068979Z"
    }
   },
   "outputs": [
    {
     "name": "stdout",
     "output_type": "stream",
     "text": [
      "Files already downloaded and verified\n",
      "Files already downloaded and verified\n"
     ]
    }
   ],
   "source": [
    "from torchvision.datasets import CIFAR10\n",
    "from torch.utils.data import DataLoader, random_split\n",
    "\n",
    "torch.manual_seed(143)\n",
    "\n",
    "data_path = './data/cifar-10/'\n",
    "class_names = ['airplane', 'automobile', 'bird', 'cat', 'deer', 'dog', 'frog',\n",
    "               'horse', 'ship', 'truck']\n",
    "\n",
    "cifar10 = CIFAR10(data_path, train=True, download=True)\n",
    "cifar10_train, cifar10_val = random_split(cifar10, [40_000, 10_000])\n",
    "cifar10_test = CIFAR10(data_path, train=False, download=True)"
   ]
  },
  {
   "cell_type": "code",
   "execution_count": 5,
   "id": "f0b8913a",
   "metadata": {
    "ExecuteTime": {
     "end_time": "2023-04-24T02:37:46.287087Z",
     "start_time": "2023-04-24T02:37:46.278541Z"
    }
   },
   "outputs": [],
   "source": [
    "img, label = cifar10_train[20]"
   ]
  },
  {
   "cell_type": "code",
   "execution_count": 6,
   "id": "779e1186",
   "metadata": {
    "ExecuteTime": {
     "end_time": "2023-04-24T02:37:48.004096Z",
     "start_time": "2023-04-24T02:37:47.993089Z"
    }
   },
   "outputs": [
    {
     "data": {
      "text/plain": [
       "[32, 32]"
      ]
     },
     "execution_count": 6,
     "metadata": {},
     "output_type": "execute_result"
    }
   ],
   "source": [
    "transforms.functional.get_image_size(img)"
   ]
  },
  {
   "cell_type": "code",
   "execution_count": 7,
   "id": "9b8415d6",
   "metadata": {
    "ExecuteTime": {
     "end_time": "2023-04-24T02:37:49.276781Z",
     "start_time": "2023-04-24T02:37:48.955751Z"
    }
   },
   "outputs": [
    {
     "data": {
      "image/png": "[encoded data removed]",
      "text/plain": [
       "<Figure size 640x480 with 1 Axes>"
      ]
     },
     "metadata": {},
     "output_type": "display_data"
    }
   ],
   "source": [
    "plt.imshow(img);\n",
    "plt.axis('off');"
   ]
  },
  {
   "cell_type": "markdown",
   "id": "b4b4853a",
   "metadata": {},
   "source": [
    "### Data Preprocessing"
   ]
  },
  {
   "cell_type": "markdown",
   "id": "9df508f2",
   "metadata": {},
   "source": [
    "#### Normalization of Inputs"
   ]
  },
  {
   "cell_type": "code",
   "execution_count": 8,
   "id": "9304d649",
   "metadata": {
    "ExecuteTime": {
     "end_time": "2023-04-24T02:38:04.634570Z",
     "start_time": "2023-04-24T02:37:54.057552Z"
    }
   },
   "outputs": [],
   "source": [
    "from torchvision import transforms\n",
    "\n",
    "cifar10 = CIFAR10(data_path, train=True, transform=transforms.ToTensor())\n",
    "\n",
    "imgs = torch.stack([img_t for img_t, _ in cifar10], dim=3)\n",
    "\n",
    "# compute for mean and standard deviation\n",
    "means = imgs.view(3, -1).mean(dim=1).numpy()\n",
    "stds = imgs.view(3, -1).std(dim=1).numpy()\n",
    "\n",
    "transformations = transforms.Compose([\n",
    "    transforms.ToTensor(),              # converts images to tensor\n",
    "    transforms.Normalize(means, stds)   # normalization\n",
    "])\n",
    "\n",
    "# loading training-validation data then applying the transformations (to tensor and normalize)\n",
    "# train = True\n",
    "transformed_cifar10 = CIFAR10(\n",
    "    data_path, train=True, download=False,\n",
    "    transform=transformations\n",
    ")\n",
    "transformed_cifar10_train, transformed_cifar10_val = random_split(cifar10, [40_000, 10_000])\n",
    "\n",
    "# loading test data then applying the transformation (to tensor)\n",
    "# train = False -> test set\n",
    "transformed_cifar10_test = CIFAR10(\n",
    "    data_path, train=False, download=False,\n",
    "    transform=transforms.ToTensor()\n",
    ")"
   ]
  },
  {
   "cell_type": "code",
   "execution_count": 9,
   "id": "c0877176",
   "metadata": {
    "ExecuteTime": {
     "end_time": "2023-04-24T02:38:11.452977Z",
     "start_time": "2023-04-24T02:38:04.638119Z"
    }
   },
   "outputs": [],
   "source": [
    "# retrieve 2 classes only\n",
    "label_map = {0: 0, 2: 1}\n",
    "class_names = ['airplane', 'bird']\n",
    "cifar2_train = [(img, label_map[label]) for img, label in transformed_cifar10_train if label in [0, 2]]\n",
    "cifar2_val = [(img, label_map[label]) for img, label in transformed_cifar10_val if label in [0, 2]]\n",
    "cifar2_test = [(img, label_map[label]) for img, label in transformed_cifar10_test if label in [0, 2]]"
   ]
  },
  {
   "cell_type": "code",
   "execution_count": 10,
   "id": "64e978cb",
   "metadata": {
    "ExecuteTime": {
     "end_time": "2023-04-24T02:38:11.462977Z",
     "start_time": "2023-04-24T02:38:11.456857Z"
    }
   },
   "outputs": [
    {
     "name": "stdout",
     "output_type": "stream",
     "text": [
      "Number of images in train set: 8056\n",
      "Number of images in val set: 1944\n",
      "Number of images in test set: 2000\n"
     ]
    }
   ],
   "source": [
    "print(f\"Number of images in train set: {len(cifar2_train)}\")\n",
    "print(f\"Number of images in val set: {len(cifar2_val)}\")\n",
    "print(f\"Number of images in test set: {len(cifar2_test)}\")"
   ]
  },
  {
   "cell_type": "code",
   "execution_count": 11,
   "id": "7d262777",
   "metadata": {
    "ExecuteTime": {
     "end_time": "2023-04-24T02:38:13.217489Z",
     "start_time": "2023-04-24T02:38:13.207766Z"
    }
   },
   "outputs": [],
   "source": [
    "# dataLoader handles shuffling, batching, etc.\n",
    "train_loader = DataLoader(cifar2_train, batch_size=64, shuffle=True)\n",
    "val_loader = DataLoader(cifar2_val, batch_size=64, shuffle=False)\n",
    "test_loader = DataLoader(cifar2_test, batch_size=64, shuffle=False)"
   ]
  },
  {
   "cell_type": "markdown",
   "id": "60b743e5",
   "metadata": {},
   "source": [
    "### Model Building"
   ]
  },
  {
   "cell_type": "markdown",
   "id": "30e588a0",
   "metadata": {
    "ExecuteTime": {
     "end_time": "2023-04-23T03:13:08.790315Z",
     "start_time": "2023-04-23T03:13:08.782679Z"
    }
   },
   "source": [
    "<img src='./images/baseline-architecture.png' width=250/>"
   ]
  },
  {
   "cell_type": "code",
   "execution_count": 12,
   "id": "f9c7cd7f",
   "metadata": {
    "ExecuteTime": {
     "end_time": "2023-04-24T02:38:24.400144Z",
     "start_time": "2023-04-24T02:38:24.384150Z"
    }
   },
   "outputs": [],
   "source": [
    "from torch import nn\n",
    "import torch.nn.functional as F\n",
    "\n",
    "class Net(nn.Module):\n",
    "    def __init__(self):\n",
    "        super().__init__()\n",
    "        self.conv1 = nn.Conv2d(3, 16, kernel_size=3, padding=1)\n",
    "        self.conv2 = nn.Conv2d(16, 8, kernel_size=3, padding=1)\n",
    "        self.fc1 = nn.Linear(8 * 8 * 8, 32)\n",
    "        self.fc2 = nn.Linear(32, 2)\n",
    "    def forward(self, x):\n",
    "        out = F.max_pool2d(torch.tanh(self.conv1(x)), 2)\n",
    "        out = F.max_pool2d(torch.tanh(self.conv2(out)), 2)\n",
    "        out = out.view(-1, 8 * 8 * 8)\n",
    "        out = torch.tanh(self.fc1(out))\n",
    "        out = self.fc2(out)\n",
    "\n",
    "        return out"
   ]
  },
  {
   "cell_type": "code",
   "execution_count": 13,
   "id": "41f34e9b",
   "metadata": {
    "ExecuteTime": {
     "end_time": "2023-04-24T02:38:25.335976Z",
     "start_time": "2023-04-24T02:38:25.321810Z"
    }
   },
   "outputs": [
    {
     "data": {
      "text/plain": [
       "(18090, [432, 16, 1152, 8, 16384, 32, 64, 2])"
      ]
     },
     "execution_count": 13,
     "metadata": {},
     "output_type": "execute_result"
    }
   ],
   "source": [
    "model = Net()\n",
    "numel_list = [p.numel() for p in model.parameters()]\n",
    "sum(numel_list), numel_list"
   ]
  },
  {
   "cell_type": "code",
   "execution_count": 14,
   "id": "60145e84",
   "metadata": {
    "ExecuteTime": {
     "end_time": "2023-04-24T02:39:01.087706Z",
     "start_time": "2023-04-24T02:39:01.081778Z"
    }
   },
   "outputs": [],
   "source": [
    "# pip install torch-summary"
   ]
  },
  {
   "cell_type": "code",
   "execution_count": 15,
   "id": "e0264335",
   "metadata": {
    "ExecuteTime": {
     "end_time": "2023-04-24T02:39:04.570138Z",
     "start_time": "2023-04-24T02:39:01.766771Z"
    }
   },
   "outputs": [
    {
     "name": "stdout",
     "output_type": "stream",
     "text": [
      "==========================================================================================\n",
      "Layer (type:depth-idx)                   Output Shape              Param #\n",
      "==========================================================================================\n",
      "├─Conv2d: 1-1                            [-1, 16, 32, 32]          448\n",
      "├─Conv2d: 1-2                            [-1, 8, 16, 16]           1,160\n",
      "├─Linear: 1-3                            [-1, 32]                  16,416\n",
      "├─Linear: 1-4                            [-1, 2]                   66\n",
      "==========================================================================================\n",
      "Total params: 18,090\n",
      "Trainable params: 18,090\n",
      "Non-trainable params: 0\n",
      "Total mult-adds (M): 0.75\n",
      "==========================================================================================\n",
      "Input size (MB): 0.01\n",
      "Forward/backward pass size (MB): 0.14\n",
      "Params size (MB): 0.07\n",
      "Estimated Total Size (MB): 0.22\n",
      "==========================================================================================\n"
     ]
    },
    {
     "data": {
      "text/plain": [
       "==========================================================================================\n",
       "Layer (type:depth-idx)                   Output Shape              Param #\n",
       "==========================================================================================\n",
       "├─Conv2d: 1-1                            [-1, 16, 32, 32]          448\n",
       "├─Conv2d: 1-2                            [-1, 8, 16, 16]           1,160\n",
       "├─Linear: 1-3                            [-1, 32]                  16,416\n",
       "├─Linear: 1-4                            [-1, 2]                   66\n",
       "==========================================================================================\n",
       "Total params: 18,090\n",
       "Trainable params: 18,090\n",
       "Non-trainable params: 0\n",
       "Total mult-adds (M): 0.75\n",
       "==========================================================================================\n",
       "Input size (MB): 0.01\n",
       "Forward/backward pass size (MB): 0.14\n",
       "Params size (MB): 0.07\n",
       "Estimated Total Size (MB): 0.22\n",
       "=========================================================================================="
      ]
     },
     "execution_count": 15,
     "metadata": {},
     "output_type": "execute_result"
    }
   ],
   "source": [
    "from torchsummary import summary\n",
    "\n",
    "summary(model, (3, 32, 32))"
   ]
  },
  {
   "cell_type": "markdown",
   "id": "7e5073a2",
   "metadata": {},
   "source": [
    "#### Same CNN architecture but different approach..."
   ]
  },
  {
   "cell_type": "code",
   "execution_count": 16,
   "id": "67a22f2a",
   "metadata": {
    "ExecuteTime": {
     "end_time": "2023-04-24T02:39:09.085727Z",
     "start_time": "2023-04-24T02:39:09.063692Z"
    }
   },
   "outputs": [],
   "source": [
    "class Net2(nn.Module):\n",
    "    def __init__(self):\n",
    "        super().__init__()\n",
    "        self.conv1 = nn.Conv2d(3, 16, kernel_size=3, padding=1)\n",
    "        self.conv2 = nn.Conv2d(16, 8, kernel_size=3, padding=1)\n",
    "        \n",
    "        self.pool = nn.MaxPool2d(2, 2)  # pooling layers included in the init\n",
    "        \n",
    "        self.fc1 = nn.Linear(8 * 8 * 8, 32)\n",
    "        self.fc2 = nn.Linear(32, 2)\n",
    "    def forward(self, x):\n",
    "        # two conv/tanh + pool layers\n",
    "        x = self.pool(F.tanh(self.conv1(x)))\n",
    "        x = self.pool(F.tanh(self.conv2(x)))\n",
    "\n",
    "        x = x.view(-1, 8 * 8 * 8)\n",
    "        x = F.tanh(self.fc1(x))\n",
    "        x = self.fc2(x)\n",
    "\n",
    "        return x"
   ]
  },
  {
   "cell_type": "code",
   "execution_count": 17,
   "id": "71f2fa5d",
   "metadata": {
    "ExecuteTime": {
     "end_time": "2023-04-24T02:39:14.968568Z",
     "start_time": "2023-04-24T02:39:14.954323Z"
    }
   },
   "outputs": [
    {
     "data": {
      "text/plain": [
       "(18090, [432, 16, 1152, 8, 16384, 32, 64, 2])"
      ]
     },
     "execution_count": 17,
     "metadata": {},
     "output_type": "execute_result"
    }
   ],
   "source": [
    "model2 = Net2()\n",
    "numel_list = [p.numel() for p in model2.parameters()]\n",
    "sum(numel_list), numel_list"
   ]
  },
  {
   "cell_type": "code",
   "execution_count": 18,
   "id": "d9f1b590",
   "metadata": {
    "ExecuteTime": {
     "end_time": "2023-04-24T02:39:15.912463Z",
     "start_time": "2023-04-24T02:39:15.896921Z"
    }
   },
   "outputs": [
    {
     "name": "stdout",
     "output_type": "stream",
     "text": [
      "==========================================================================================\n",
      "Layer (type:depth-idx)                   Output Shape              Param #\n",
      "==========================================================================================\n",
      "├─Conv2d: 1-1                            [-1, 16, 32, 32]          448\n",
      "├─MaxPool2d: 1-2                         [-1, 16, 16, 16]          --\n",
      "├─Conv2d: 1-3                            [-1, 8, 16, 16]           1,160\n",
      "├─MaxPool2d: 1-4                         [-1, 8, 8, 8]             --\n",
      "├─Linear: 1-5                            [-1, 32]                  16,416\n",
      "├─Linear: 1-6                            [-1, 2]                   66\n",
      "==========================================================================================\n",
      "Total params: 18,090\n",
      "Trainable params: 18,090\n",
      "Non-trainable params: 0\n",
      "Total mult-adds (M): 0.75\n",
      "==========================================================================================\n",
      "Input size (MB): 0.01\n",
      "Forward/backward pass size (MB): 0.14\n",
      "Params size (MB): 0.07\n",
      "Estimated Total Size (MB): 0.22\n",
      "==========================================================================================\n"
     ]
    },
    {
     "data": {
      "text/plain": [
       "==========================================================================================\n",
       "Layer (type:depth-idx)                   Output Shape              Param #\n",
       "==========================================================================================\n",
       "├─Conv2d: 1-1                            [-1, 16, 32, 32]          448\n",
       "├─MaxPool2d: 1-2                         [-1, 16, 16, 16]          --\n",
       "├─Conv2d: 1-3                            [-1, 8, 16, 16]           1,160\n",
       "├─MaxPool2d: 1-4                         [-1, 8, 8, 8]             --\n",
       "├─Linear: 1-5                            [-1, 32]                  16,416\n",
       "├─Linear: 1-6                            [-1, 2]                   66\n",
       "==========================================================================================\n",
       "Total params: 18,090\n",
       "Trainable params: 18,090\n",
       "Non-trainable params: 0\n",
       "Total mult-adds (M): 0.75\n",
       "==========================================================================================\n",
       "Input size (MB): 0.01\n",
       "Forward/backward pass size (MB): 0.14\n",
       "Params size (MB): 0.07\n",
       "Estimated Total Size (MB): 0.22\n",
       "=========================================================================================="
      ]
     },
     "execution_count": 18,
     "metadata": {},
     "output_type": "execute_result"
    }
   ],
   "source": [
    "summary(model2, (3, 32, 32))"
   ]
  },
  {
   "cell_type": "markdown",
   "id": "3518f760",
   "metadata": {},
   "source": [
    "### Model Training (on GPU)"
   ]
  },
  {
   "cell_type": "code",
   "execution_count": 19,
   "id": "918eefb2",
   "metadata": {
    "ExecuteTime": {
     "end_time": "2023-04-24T02:39:22.647074Z",
     "start_time": "2023-04-24T02:39:22.638533Z"
    }
   },
   "outputs": [
    {
     "name": "stdout",
     "output_type": "stream",
     "text": [
      "Training on device cuda.\n"
     ]
    }
   ],
   "source": [
    "device = (torch.device('cuda') if torch.cuda.is_available()\n",
    "          else torch.device('cpu'))\n",
    "print(f\"Training on device {device}.\")"
   ]
  },
  {
   "cell_type": "code",
   "execution_count": 30,
   "id": "f6593a35",
   "metadata": {
    "ExecuteTime": {
     "end_time": "2023-04-24T02:43:40.411937Z",
     "start_time": "2023-04-24T02:43:40.403414Z"
    }
   },
   "outputs": [],
   "source": [
    "import datetime\n",
    "\n",
    "def training_loop(n_epochs, optimizer, model, loss_fn, train_loader):\n",
    "    for epoch in range(1, n_epochs + 1):\n",
    "        loss_train = 0.0\n",
    "        for imgs, labels in train_loader:\n",
    "            imgs = imgs.to(device=device)\n",
    "            labels = labels.to(device=device)\n",
    "            outputs = model(imgs)\n",
    "            loss = loss_fn(outputs, labels)\n",
    "\n",
    "            optimizer.zero_grad()\n",
    "            loss.backward()\n",
    "            optimizer.step()\n",
    "\n",
    "            loss_train += loss.item()\n",
    "\n",
    "        if epoch == 1 or epoch % 10 == 0:\n",
    "            print('{} Epoch {}, Training loss {}'.format(\n",
    "                datetime.datetime.now(), epoch,\n",
    "                loss_train / len(train_loader)))          "
   ]
  },
  {
   "cell_type": "code",
   "execution_count": 31,
   "id": "524294d1",
   "metadata": {
    "ExecuteTime": {
     "end_time": "2023-04-24T02:43:41.156509Z",
     "start_time": "2023-04-24T02:43:41.151096Z"
    }
   },
   "outputs": [],
   "source": [
    "from torch import optim"
   ]
  },
  {
   "cell_type": "code",
   "execution_count": 32,
   "id": "3a6b7f8f",
   "metadata": {
    "ExecuteTime": {
     "end_time": "2023-04-24T02:44:26.670575Z",
     "start_time": "2023-04-24T02:43:41.707411Z"
    }
   },
   "outputs": [
    {
     "name": "stdout",
     "output_type": "stream",
     "text": [
      "2023-04-24 02:43:42.233745 Epoch 1, Training loss 0.6868305073844062\n",
      "2023-04-24 02:43:46.345855 Epoch 10, Training loss 0.43323809949178543\n",
      "2023-04-24 02:43:51.159845 Epoch 20, Training loss 0.35777449276712203\n",
      "2023-04-24 02:43:55.908205 Epoch 30, Training loss 0.33376511328277136\n",
      "2023-04-24 02:43:59.550560 Epoch 40, Training loss 0.3165437527119167\n",
      "2023-04-24 02:44:03.429415 Epoch 50, Training loss 0.3029357412504771\n",
      "2023-04-24 02:44:07.804013 Epoch 60, Training loss 0.28813336245597354\n",
      "2023-04-24 02:44:12.956535 Epoch 70, Training loss 0.2763141071985638\n",
      "2023-04-24 02:44:17.546948 Epoch 80, Training loss 0.2594802530393714\n",
      "2023-04-24 02:44:22.156337 Epoch 90, Training loss 0.2448070158088018\n",
      "2023-04-24 02:44:26.666266 Epoch 100, Training loss 0.23238248182904153\n"
     ]
    }
   ],
   "source": [
    "model = Net().to(device=device)\n",
    "optimizer = optim.SGD(model.parameters(), lr=1e-2)\n",
    "loss_fn = nn.CrossEntropyLoss()\n",
    "\n",
    "training_loop(100, optimizer, model, loss_fn, train_loader=train_loader)"
   ]
  },
  {
   "cell_type": "markdown",
   "id": "5065c132",
   "metadata": {},
   "source": [
    "### Model Validation"
   ]
  },
  {
   "cell_type": "code",
   "execution_count": 33,
   "id": "b2b6f81f",
   "metadata": {
    "ExecuteTime": {
     "end_time": "2023-04-24T02:44:49.617075Z",
     "start_time": "2023-04-24T02:44:49.601941Z"
    }
   },
   "outputs": [],
   "source": [
    "def validate(model, train_loader, val_loader):\n",
    "    for name, loader in [(\"train\", train_loader), (\"val\", val_loader)]:\n",
    "        correct = 0\n",
    "        total = 0\n",
    "\n",
    "        with torch.no_grad():\n",
    "            for imgs, labels in loader:\n",
    "                imgs = imgs.to(device=device)\n",
    "                labels = labels.to(device=device)\n",
    "                outputs = model(imgs)\n",
    "                _, predicted = torch.max(outputs, dim=1)\n",
    "                total += labels.shape[0]\n",
    "                correct += int((predicted == labels).sum())\n",
    "\n",
    "        print(\"Accuracy {}: {:.2f}\".format(name , correct / total))"
   ]
  },
  {
   "cell_type": "code",
   "execution_count": 34,
   "id": "b031baf6",
   "metadata": {
    "ExecuteTime": {
     "end_time": "2023-04-24T02:44:50.793289Z",
     "start_time": "2023-04-24T02:44:50.597835Z"
    }
   },
   "outputs": [
    {
     "name": "stdout",
     "output_type": "stream",
     "text": [
      "Accuracy train: 0.90\n",
      "Accuracy val: 0.88\n"
     ]
    }
   ],
   "source": [
    "validate(model, train_loader, val_loader)"
   ]
  },
  {
   "cell_type": "markdown",
   "id": "612b608c",
   "metadata": {},
   "source": [
    "# PyTorch Lightning\n",
    "\n",
    "Sources: \n",
    "* [PyTorch Lightning website](https://www.pytorchlightning.ai/index.html)\n",
    "* [Lightning AI github](https://github.com/Lightning-AI/lightning#pytorch-lightning-train-and-deploy-pytorch-at-scale)\n",
    "* [From PyTorch to PyTorch Lightning--a gentle introduction, By: William Falcon](https://towardsdatascience.com/from-pytorch-to-pytorch-lightning-a-gentle-introduction-b371b7caaf09)\n",
    "* [PyTorch Lightning Introduction - Colab Notebook](https://colab.research.google.com/drive/1Mowb4NzWlRCxzAFjOIJqUmmk_wAT-XP3)\n",
    "\n",
    "PyTorch Lightning was started by William Falcon while completing his Ph.D. AI research at NYU CILVR and Facebook AI Research, with the vision of making it a foundational part of everyone's deep learning research code. As a result, the framework is designed to be extremely extensible while making state of the art AI research techniques (like TPU training) trivial.\n",
    "\n",
    "PyTorch Lightning is just organized PyTorch. It makes coding complex networks simple. It structures your PyTorch code so it can abstract the details of training. This makes AI research scalable and fast to iterate on.\n",
    "\n",
    "**Some advantages over unstructured PyTorch:**\n",
    "* Models become hardware agnostic\n",
    "* Code is clear to read \n",
    "* Easier to reproduce\n",
    "* Make fewer mistakes because lightning handles the tricky engineering\n",
    "* Minimal running speed overhead (about 300 ms per epoch compared with pure PyTorch)\n"
   ]
  },
  {
   "cell_type": "code",
   "execution_count": 35,
   "id": "cce7131c",
   "metadata": {
    "ExecuteTime": {
     "end_time": "2023-04-24T02:44:54.195754Z",
     "start_time": "2023-04-24T02:44:54.191100Z"
    }
   },
   "outputs": [],
   "source": [
    "# pip install pytorch-lightning"
   ]
  },
  {
   "cell_type": "code",
   "execution_count": 36,
   "id": "c07f4804",
   "metadata": {
    "ExecuteTime": {
     "end_time": "2023-04-24T02:44:54.738565Z",
     "start_time": "2023-04-24T02:44:54.732566Z"
    }
   },
   "outputs": [],
   "source": [
    "import pytorch_lightning as pl"
   ]
  },
  {
   "cell_type": "code",
   "execution_count": 37,
   "id": "d5372041",
   "metadata": {
    "ExecuteTime": {
     "end_time": "2023-04-24T02:44:55.928499Z",
     "start_time": "2023-04-24T02:44:55.924011Z"
    }
   },
   "outputs": [],
   "source": [
    "# pip install torchmetrics\n",
    "import torchmetrics"
   ]
  },
  {
   "cell_type": "markdown",
   "id": "78040840",
   "metadata": {},
   "source": [
    "## Model Building (Conversion from PyTorch to PyTorch Lightning)"
   ]
  },
  {
   "cell_type": "code",
   "execution_count": 44,
   "id": "55a72ecc",
   "metadata": {
    "ExecuteTime": {
     "end_time": "2023-04-24T02:47:46.513981Z",
     "start_time": "2023-04-24T02:47:46.489465Z"
    }
   },
   "outputs": [],
   "source": [
    "class LightningCNN(pl.LightningModule):   # use pl.LightningModule instead of nn.Module\n",
    "    \n",
    "    def __init__(self):                   # same as in pytorch\n",
    "        super(LightningCNN, self).__init__()\n",
    "        \n",
    "        self.conv1 = nn.Conv2d(3, 16, kernel_size=3, padding=1)\n",
    "        self.conv2 = nn.Conv2d(16, 8, kernel_size=3, padding=1)        \n",
    "        self.pool = nn.MaxPool2d(2, 2)  \n",
    "        self.fc1 = nn.Linear(8 * 8 * 8, 32)\n",
    "        self.fc2 = nn.Linear(32, 2)\n",
    "        \n",
    "    def forward(self, x):                 # same as in pytorch\n",
    "        x = self.pool(F.tanh(self.conv1(x)))\n",
    "        x = self.pool(F.tanh(self.conv2(x)))\n",
    "\n",
    "        x = x.view(-1, 8 * 8 * 8)\n",
    "        x = F.tanh(self.fc1(x))\n",
    "        x = self.fc2(x)\n",
    "\n",
    "        return x\n",
    "    \n",
    "    def configure_optimizers(self):      # place the optimizer here\n",
    "        optimizer = optim.SGD(self.parameters(), lr=1e-2)\n",
    "        return optimizer\n",
    "    \n",
    "    def cross_entropy_loss(self, logits, labels):     # place the loss function here\n",
    "        loss_fn = nn.CrossEntropyLoss(logits, labels)\n",
    "        return loss_fn\n",
    "    \n",
    "    def training_step(self, batch, batch_idx):        # model training\n",
    "        x, y = batch\n",
    "        output = self.forward(x)\n",
    "        preds = output.max(1).indices\n",
    "        # accuracy\n",
    "        self.accuracy = torchmetrics.functional.accuracy(preds, y, task ='binary')        \n",
    "        self.log('train_acc', self.accuracy)        \n",
    "        # loss\n",
    "        loss = F.cross_entropy(output, y)\n",
    "        self.log('train_loss', loss)\n",
    "\n",
    "        return loss\n",
    "    \n",
    "    def validation_step(self, batch, batch_idx):     \n",
    "        x, y = batch\n",
    "        output = self.forward(x)\n",
    "        preds = output.max(1).indices\n",
    "        self.accuracy = torchmetrics.functional.accuracy(preds, y, task=\"binary\")\n",
    "\n",
    "        self.log('val_acc', self.accuracy)\n",
    "        loss = F.cross_entropy(output, y)\n",
    "        self.log('val_loss', loss)\n",
    "             \n",
    "    def test_step(self, batch, batch_idx):     # model testing\n",
    "        x, y = batch\n",
    "        output = self.forward(x)\n",
    "        preds = output.max(1).indices\n",
    "        self.accuracy = torchmetrics.functional.accuracy(preds, y, task=\"binary\")\n",
    "\n",
    "        self.log('test_acc', self.accuracy)\n",
    "        loss = F.cross_entropy(output, y)\n",
    "        self.log('test_loss', loss)"
   ]
  },
  {
   "cell_type": "markdown",
   "id": "0c444efe",
   "metadata": {},
   "source": [
    "## Model Training"
   ]
  },
  {
   "cell_type": "code",
   "execution_count": 45,
   "id": "fdeb63a1",
   "metadata": {
    "ExecuteTime": {
     "end_time": "2023-04-24T02:47:47.787503Z",
     "start_time": "2023-04-24T02:47:47.783936Z"
    },
    "scrolled": false
   },
   "outputs": [],
   "source": [
    "# pip install lightning"
   ]
  },
  {
   "cell_type": "code",
   "execution_count": 78,
   "id": "82630164",
   "metadata": {
    "ExecuteTime": {
     "end_time": "2023-04-24T06:19:36.680156Z",
     "start_time": "2023-04-24T06:17:44.268604Z"
    },
    "scrolled": false
   },
   "outputs": [
    {
     "name": "stderr",
     "output_type": "stream",
     "text": [
      "GPU available: True (cuda), used: True\n",
      "TPU available: False, using: 0 TPU cores\n",
      "IPU available: False, using: 0 IPUs\n",
      "HPU available: False, using: 0 HPUs\n",
      "/home/mverdeprado/.conda/envs/msds2023-ml3-cnn/lib/python3.8/site-packages/pytorch_lightning/callbacks/model_checkpoint.py:612: UserWarning: Checkpoint directory logs/baseline_cnn-01/version_0/checkpoints exists and is not empty.\n",
      "  rank_zero_warn(f\"Checkpoint directory {dirpath} exists and is not empty.\")\n",
      "LOCAL_RANK: 0 - CUDA_VISIBLE_DEVICES: [0]\n",
      "\n",
      "  | Name  | Type      | Params\n",
      "------------------------------------\n",
      "0 | conv1 | Conv2d    | 448   \n",
      "1 | conv2 | Conv2d    | 1.2 K \n",
      "2 | pool  | MaxPool2d | 0     \n",
      "3 | fc1   | Linear    | 16.4 K\n",
      "4 | fc2   | Linear    | 66    \n",
      "------------------------------------\n",
      "18.1 K    Trainable params\n",
      "0         Non-trainable params\n",
      "18.1 K    Total params\n",
      "0.072     Total estimated model params size (MB)\n",
      "/home/mverdeprado/.conda/envs/msds2023-ml3-cnn/lib/python3.8/site-packages/lightning/fabric/loggers/csv_logs.py:188: UserWarning: Experiment logs directory logs/baseline_cnn-01/version_0 exists and is not empty. Previous log files in this directory will be deleted when the new ones are saved!\n",
      "  rank_zero_warn(\n"
     ]
    },
    {
     "data": {
      "application/vnd.jupyter.widget-view+json": {
       "model_id": "",
       "version_major": 2,
       "version_minor": 0
      },
      "text/plain": [
       "Sanity Checking: 0it [00:00, ?it/s]"
      ]
     },
     "metadata": {},
     "output_type": "display_data"
    },
    {
     "name": "stderr",
     "output_type": "stream",
     "text": [
      "/home/mverdeprado/.conda/envs/msds2023-ml3-cnn/lib/python3.8/site-packages/pytorch_lightning/trainer/connectors/data_connector.py:430: PossibleUserWarning: The dataloader, val_dataloader, does not have many workers which may be a bottleneck. Consider increasing the value of the `num_workers` argument` (try 32 which is the number of cpus on this machine) in the `DataLoader` init to improve performance.\n",
      "  rank_zero_warn(\n",
      "/home/mverdeprado/.conda/envs/msds2023-ml3-cnn/lib/python3.8/site-packages/pytorch_lightning/trainer/connectors/data_connector.py:430: PossibleUserWarning: The dataloader, train_dataloader, does not have many workers which may be a bottleneck. Consider increasing the value of the `num_workers` argument` (try 32 which is the number of cpus on this machine) in the `DataLoader` init to improve performance.\n",
      "  rank_zero_warn(\n"
     ]
    },
    {
     "data": {
      "application/vnd.jupyter.widget-view+json": {
       "model_id": "f7cb847b31634e7d9f5463d8fa7ff8ff",
       "version_major": 2,
       "version_minor": 0
      },
      "text/plain": [
       "Training: 0it [00:00, ?it/s]"
      ]
     },
     "metadata": {},
     "output_type": "display_data"
    },
    {
     "data": {
      "application/vnd.jupyter.widget-view+json": {
       "model_id": "",
       "version_major": 2,
       "version_minor": 0
      },
      "text/plain": [
       "Validation: 0it [00:00, ?it/s]"
      ]
     },
     "metadata": {},
     "output_type": "display_data"
    },
    {
     "data": {
      "application/vnd.jupyter.widget-view+json": {
       "model_id": "",
       "version_major": 2,
       "version_minor": 0
      },
      "text/plain": [
       "Validation: 0it [00:00, ?it/s]"
      ]
     },
     "metadata": {},
     "output_type": "display_data"
    },
    {
     "data": {
      "application/vnd.jupyter.widget-view+json": {
       "model_id": "",
       "version_major": 2,
       "version_minor": 0
      },
      "text/plain": [
       "Validation: 0it [00:00, ?it/s]"
      ]
     },
     "metadata": {},
     "output_type": "display_data"
    },
    {
     "data": {
      "application/vnd.jupyter.widget-view+json": {
       "model_id": "",
       "version_major": 2,
       "version_minor": 0
      },
      "text/plain": [
       "Validation: 0it [00:00, ?it/s]"
      ]
     },
     "metadata": {},
     "output_type": "display_data"
    },
    {
     "data": {
      "application/vnd.jupyter.widget-view+json": {
       "model_id": "",
       "version_major": 2,
       "version_minor": 0
      },
      "text/plain": [
       "Validation: 0it [00:00, ?it/s]"
      ]
     },
     "metadata": {},
     "output_type": "display_data"
    },
    {
     "data": {
      "application/vnd.jupyter.widget-view+json": {
       "model_id": "",
       "version_major": 2,
       "version_minor": 0
      },
      "text/plain": [
       "Validation: 0it [00:00, ?it/s]"
      ]
     },
     "metadata": {},
     "output_type": "display_data"
    },
    {
     "data": {
      "application/vnd.jupyter.widget-view+json": {
       "model_id": "",
       "version_major": 2,
       "version_minor": 0
      },
      "text/plain": [
       "Validation: 0it [00:00, ?it/s]"
      ]
     },
     "metadata": {},
     "output_type": "display_data"
    },
    {
     "data": {
      "application/vnd.jupyter.widget-view+json": {
       "model_id": "",
       "version_major": 2,
       "version_minor": 0
      },
      "text/plain": [
       "Validation: 0it [00:00, ?it/s]"
      ]
     },
     "metadata": {},
     "output_type": "display_data"
    },
    {
     "data": {
      "application/vnd.jupyter.widget-view+json": {
       "model_id": "",
       "version_major": 2,
       "version_minor": 0
      },
      "text/plain": [
       "Validation: 0it [00:00, ?it/s]"
      ]
     },
     "metadata": {},
     "output_type": "display_data"
    },
    {
     "data": {
      "application/vnd.jupyter.widget-view+json": {
       "model_id": "",
       "version_major": 2,
       "version_minor": 0
      },
      "text/plain": [
       "Validation: 0it [00:00, ?it/s]"
      ]
     },
     "metadata": {},
     "output_type": "display_data"
    },
    {
     "data": {
      "application/vnd.jupyter.widget-view+json": {
       "model_id": "",
       "version_major": 2,
       "version_minor": 0
      },
      "text/plain": [
       "Validation: 0it [00:00, ?it/s]"
      ]
     },
     "metadata": {},
     "output_type": "display_data"
    },
    {
     "data": {
      "application/vnd.jupyter.widget-view+json": {
       "model_id": "",
       "version_major": 2,
       "version_minor": 0
      },
      "text/plain": [
       "Validation: 0it [00:00, ?it/s]"
      ]
     },
     "metadata": {},
     "output_type": "display_data"
    },
    {
     "data": {
      "application/vnd.jupyter.widget-view+json": {
       "model_id": "",
       "version_major": 2,
       "version_minor": 0
      },
      "text/plain": [
       "Validation: 0it [00:00, ?it/s]"
      ]
     },
     "metadata": {},
     "output_type": "display_data"
    },
    {
     "data": {
      "application/vnd.jupyter.widget-view+json": {
       "model_id": "",
       "version_major": 2,
       "version_minor": 0
      },
      "text/plain": [
       "Validation: 0it [00:00, ?it/s]"
      ]
     },
     "metadata": {},
     "output_type": "display_data"
    },
    {
     "data": {
      "application/vnd.jupyter.widget-view+json": {
       "model_id": "",
       "version_major": 2,
       "version_minor": 0
      },
      "text/plain": [
       "Validation: 0it [00:00, ?it/s]"
      ]
     },
     "metadata": {},
     "output_type": "display_data"
    },
    {
     "data": {
      "application/vnd.jupyter.widget-view+json": {
       "model_id": "",
       "version_major": 2,
       "version_minor": 0
      },
      "text/plain": [
       "Validation: 0it [00:00, ?it/s]"
      ]
     },
     "metadata": {},
     "output_type": "display_data"
    },
    {
     "data": {
      "application/vnd.jupyter.widget-view+json": {
       "model_id": "",
       "version_major": 2,
       "version_minor": 0
      },
      "text/plain": [
       "Validation: 0it [00:00, ?it/s]"
      ]
     },
     "metadata": {},
     "output_type": "display_data"
    },
    {
     "data": {
      "application/vnd.jupyter.widget-view+json": {
       "model_id": "",
       "version_major": 2,
       "version_minor": 0
      },
      "text/plain": [
       "Validation: 0it [00:00, ?it/s]"
      ]
     },
     "metadata": {},
     "output_type": "display_data"
    },
    {
     "data": {
      "application/vnd.jupyter.widget-view+json": {
       "model_id": "",
       "version_major": 2,
       "version_minor": 0
      },
      "text/plain": [
       "Validation: 0it [00:00, ?it/s]"
      ]
     },
     "metadata": {},
     "output_type": "display_data"
    },
    {
     "data": {
      "application/vnd.jupyter.widget-view+json": {
       "model_id": "",
       "version_major": 2,
       "version_minor": 0
      },
      "text/plain": [
       "Validation: 0it [00:00, ?it/s]"
      ]
     },
     "metadata": {},
     "output_type": "display_data"
    },
    {
     "data": {
      "application/vnd.jupyter.widget-view+json": {
       "model_id": "",
       "version_major": 2,
       "version_minor": 0
      },
      "text/plain": [
       "Validation: 0it [00:00, ?it/s]"
      ]
     },
     "metadata": {},
     "output_type": "display_data"
    },
    {
     "data": {
      "application/vnd.jupyter.widget-view+json": {
       "model_id": "",
       "version_major": 2,
       "version_minor": 0
      },
      "text/plain": [
       "Validation: 0it [00:00, ?it/s]"
      ]
     },
     "metadata": {},
     "output_type": "display_data"
    },
    {
     "data": {
      "application/vnd.jupyter.widget-view+json": {
       "model_id": "",
       "version_major": 2,
       "version_minor": 0
      },
      "text/plain": [
       "Validation: 0it [00:00, ?it/s]"
      ]
     },
     "metadata": {},
     "output_type": "display_data"
    },
    {
     "data": {
      "application/vnd.jupyter.widget-view+json": {
       "model_id": "",
       "version_major": 2,
       "version_minor": 0
      },
      "text/plain": [
       "Validation: 0it [00:00, ?it/s]"
      ]
     },
     "metadata": {},
     "output_type": "display_data"
    },
    {
     "data": {
      "application/vnd.jupyter.widget-view+json": {
       "model_id": "",
       "version_major": 2,
       "version_minor": 0
      },
      "text/plain": [
       "Validation: 0it [00:00, ?it/s]"
      ]
     },
     "metadata": {},
     "output_type": "display_data"
    },
    {
     "data": {
      "application/vnd.jupyter.widget-view+json": {
       "model_id": "",
       "version_major": 2,
       "version_minor": 0
      },
      "text/plain": [
       "Validation: 0it [00:00, ?it/s]"
      ]
     },
     "metadata": {},
     "output_type": "display_data"
    },
    {
     "data": {
      "application/vnd.jupyter.widget-view+json": {
       "model_id": "",
       "version_major": 2,
       "version_minor": 0
      },
      "text/plain": [
       "Validation: 0it [00:00, ?it/s]"
      ]
     },
     "metadata": {},
     "output_type": "display_data"
    },
    {
     "data": {
      "application/vnd.jupyter.widget-view+json": {
       "model_id": "",
       "version_major": 2,
       "version_minor": 0
      },
      "text/plain": [
       "Validation: 0it [00:00, ?it/s]"
      ]
     },
     "metadata": {},
     "output_type": "display_data"
    },
    {
     "data": {
      "application/vnd.jupyter.widget-view+json": {
       "model_id": "",
       "version_major": 2,
       "version_minor": 0
      },
      "text/plain": [
       "Validation: 0it [00:00, ?it/s]"
      ]
     },
     "metadata": {},
     "output_type": "display_data"
    },
    {
     "data": {
      "application/vnd.jupyter.widget-view+json": {
       "model_id": "",
       "version_major": 2,
       "version_minor": 0
      },
      "text/plain": [
       "Validation: 0it [00:00, ?it/s]"
      ]
     },
     "metadata": {},
     "output_type": "display_data"
    },
    {
     "data": {
      "application/vnd.jupyter.widget-view+json": {
       "model_id": "",
       "version_major": 2,
       "version_minor": 0
      },
      "text/plain": [
       "Validation: 0it [00:00, ?it/s]"
      ]
     },
     "metadata": {},
     "output_type": "display_data"
    },
    {
     "data": {
      "application/vnd.jupyter.widget-view+json": {
       "model_id": "",
       "version_major": 2,
       "version_minor": 0
      },
      "text/plain": [
       "Validation: 0it [00:00, ?it/s]"
      ]
     },
     "metadata": {},
     "output_type": "display_data"
    },
    {
     "data": {
      "application/vnd.jupyter.widget-view+json": {
       "model_id": "",
       "version_major": 2,
       "version_minor": 0
      },
      "text/plain": [
       "Validation: 0it [00:00, ?it/s]"
      ]
     },
     "metadata": {},
     "output_type": "display_data"
    },
    {
     "data": {
      "application/vnd.jupyter.widget-view+json": {
       "model_id": "",
       "version_major": 2,
       "version_minor": 0
      },
      "text/plain": [
       "Validation: 0it [00:00, ?it/s]"
      ]
     },
     "metadata": {},
     "output_type": "display_data"
    },
    {
     "data": {
      "application/vnd.jupyter.widget-view+json": {
       "model_id": "",
       "version_major": 2,
       "version_minor": 0
      },
      "text/plain": [
       "Validation: 0it [00:00, ?it/s]"
      ]
     },
     "metadata": {},
     "output_type": "display_data"
    },
    {
     "data": {
      "application/vnd.jupyter.widget-view+json": {
       "model_id": "",
       "version_major": 2,
       "version_minor": 0
      },
      "text/plain": [
       "Validation: 0it [00:00, ?it/s]"
      ]
     },
     "metadata": {},
     "output_type": "display_data"
    },
    {
     "data": {
      "application/vnd.jupyter.widget-view+json": {
       "model_id": "",
       "version_major": 2,
       "version_minor": 0
      },
      "text/plain": [
       "Validation: 0it [00:00, ?it/s]"
      ]
     },
     "metadata": {},
     "output_type": "display_data"
    },
    {
     "data": {
      "application/vnd.jupyter.widget-view+json": {
       "model_id": "",
       "version_major": 2,
       "version_minor": 0
      },
      "text/plain": [
       "Validation: 0it [00:00, ?it/s]"
      ]
     },
     "metadata": {},
     "output_type": "display_data"
    },
    {
     "data": {
      "application/vnd.jupyter.widget-view+json": {
       "model_id": "",
       "version_major": 2,
       "version_minor": 0
      },
      "text/plain": [
       "Validation: 0it [00:00, ?it/s]"
      ]
     },
     "metadata": {},
     "output_type": "display_data"
    },
    {
     "data": {
      "application/vnd.jupyter.widget-view+json": {
       "model_id": "",
       "version_major": 2,
       "version_minor": 0
      },
      "text/plain": [
       "Validation: 0it [00:00, ?it/s]"
      ]
     },
     "metadata": {},
     "output_type": "display_data"
    },
    {
     "data": {
      "application/vnd.jupyter.widget-view+json": {
       "model_id": "",
       "version_major": 2,
       "version_minor": 0
      },
      "text/plain": [
       "Validation: 0it [00:00, ?it/s]"
      ]
     },
     "metadata": {},
     "output_type": "display_data"
    },
    {
     "data": {
      "application/vnd.jupyter.widget-view+json": {
       "model_id": "",
       "version_major": 2,
       "version_minor": 0
      },
      "text/plain": [
       "Validation: 0it [00:00, ?it/s]"
      ]
     },
     "metadata": {},
     "output_type": "display_data"
    },
    {
     "data": {
      "application/vnd.jupyter.widget-view+json": {
       "model_id": "",
       "version_major": 2,
       "version_minor": 0
      },
      "text/plain": [
       "Validation: 0it [00:00, ?it/s]"
      ]
     },
     "metadata": {},
     "output_type": "display_data"
    },
    {
     "data": {
      "application/vnd.jupyter.widget-view+json": {
       "model_id": "",
       "version_major": 2,
       "version_minor": 0
      },
      "text/plain": [
       "Validation: 0it [00:00, ?it/s]"
      ]
     },
     "metadata": {},
     "output_type": "display_data"
    },
    {
     "data": {
      "application/vnd.jupyter.widget-view+json": {
       "model_id": "",
       "version_major": 2,
       "version_minor": 0
      },
      "text/plain": [
       "Validation: 0it [00:00, ?it/s]"
      ]
     },
     "metadata": {},
     "output_type": "display_data"
    },
    {
     "data": {
      "application/vnd.jupyter.widget-view+json": {
       "model_id": "",
       "version_major": 2,
       "version_minor": 0
      },
      "text/plain": [
       "Validation: 0it [00:00, ?it/s]"
      ]
     },
     "metadata": {},
     "output_type": "display_data"
    },
    {
     "data": {
      "application/vnd.jupyter.widget-view+json": {
       "model_id": "",
       "version_major": 2,
       "version_minor": 0
      },
      "text/plain": [
       "Validation: 0it [00:00, ?it/s]"
      ]
     },
     "metadata": {},
     "output_type": "display_data"
    },
    {
     "data": {
      "application/vnd.jupyter.widget-view+json": {
       "model_id": "",
       "version_major": 2,
       "version_minor": 0
      },
      "text/plain": [
       "Validation: 0it [00:00, ?it/s]"
      ]
     },
     "metadata": {},
     "output_type": "display_data"
    },
    {
     "data": {
      "application/vnd.jupyter.widget-view+json": {
       "model_id": "",
       "version_major": 2,
       "version_minor": 0
      },
      "text/plain": [
       "Validation: 0it [00:00, ?it/s]"
      ]
     },
     "metadata": {},
     "output_type": "display_data"
    },
    {
     "data": {
      "application/vnd.jupyter.widget-view+json": {
       "model_id": "",
       "version_major": 2,
       "version_minor": 0
      },
      "text/plain": [
       "Validation: 0it [00:00, ?it/s]"
      ]
     },
     "metadata": {},
     "output_type": "display_data"
    },
    {
     "data": {
      "application/vnd.jupyter.widget-view+json": {
       "model_id": "",
       "version_major": 2,
       "version_minor": 0
      },
      "text/plain": [
       "Validation: 0it [00:00, ?it/s]"
      ]
     },
     "metadata": {},
     "output_type": "display_data"
    },
    {
     "data": {
      "application/vnd.jupyter.widget-view+json": {
       "model_id": "",
       "version_major": 2,
       "version_minor": 0
      },
      "text/plain": [
       "Validation: 0it [00:00, ?it/s]"
      ]
     },
     "metadata": {},
     "output_type": "display_data"
    },
    {
     "data": {
      "application/vnd.jupyter.widget-view+json": {
       "model_id": "",
       "version_major": 2,
       "version_minor": 0
      },
      "text/plain": [
       "Validation: 0it [00:00, ?it/s]"
      ]
     },
     "metadata": {},
     "output_type": "display_data"
    },
    {
     "data": {
      "application/vnd.jupyter.widget-view+json": {
       "model_id": "",
       "version_major": 2,
       "version_minor": 0
      },
      "text/plain": [
       "Validation: 0it [00:00, ?it/s]"
      ]
     },
     "metadata": {},
     "output_type": "display_data"
    },
    {
     "data": {
      "application/vnd.jupyter.widget-view+json": {
       "model_id": "",
       "version_major": 2,
       "version_minor": 0
      },
      "text/plain": [
       "Validation: 0it [00:00, ?it/s]"
      ]
     },
     "metadata": {},
     "output_type": "display_data"
    },
    {
     "data": {
      "application/vnd.jupyter.widget-view+json": {
       "model_id": "",
       "version_major": 2,
       "version_minor": 0
      },
      "text/plain": [
       "Validation: 0it [00:00, ?it/s]"
      ]
     },
     "metadata": {},
     "output_type": "display_data"
    },
    {
     "data": {
      "application/vnd.jupyter.widget-view+json": {
       "model_id": "",
       "version_major": 2,
       "version_minor": 0
      },
      "text/plain": [
       "Validation: 0it [00:00, ?it/s]"
      ]
     },
     "metadata": {},
     "output_type": "display_data"
    },
    {
     "data": {
      "application/vnd.jupyter.widget-view+json": {
       "model_id": "",
       "version_major": 2,
       "version_minor": 0
      },
      "text/plain": [
       "Validation: 0it [00:00, ?it/s]"
      ]
     },
     "metadata": {},
     "output_type": "display_data"
    },
    {
     "data": {
      "application/vnd.jupyter.widget-view+json": {
       "model_id": "",
       "version_major": 2,
       "version_minor": 0
      },
      "text/plain": [
       "Validation: 0it [00:00, ?it/s]"
      ]
     },
     "metadata": {},
     "output_type": "display_data"
    },
    {
     "data": {
      "application/vnd.jupyter.widget-view+json": {
       "model_id": "",
       "version_major": 2,
       "version_minor": 0
      },
      "text/plain": [
       "Validation: 0it [00:00, ?it/s]"
      ]
     },
     "metadata": {},
     "output_type": "display_data"
    },
    {
     "data": {
      "application/vnd.jupyter.widget-view+json": {
       "model_id": "",
       "version_major": 2,
       "version_minor": 0
      },
      "text/plain": [
       "Validation: 0it [00:00, ?it/s]"
      ]
     },
     "metadata": {},
     "output_type": "display_data"
    },
    {
     "data": {
      "application/vnd.jupyter.widget-view+json": {
       "model_id": "",
       "version_major": 2,
       "version_minor": 0
      },
      "text/plain": [
       "Validation: 0it [00:00, ?it/s]"
      ]
     },
     "metadata": {},
     "output_type": "display_data"
    },
    {
     "data": {
      "application/vnd.jupyter.widget-view+json": {
       "model_id": "",
       "version_major": 2,
       "version_minor": 0
      },
      "text/plain": [
       "Validation: 0it [00:00, ?it/s]"
      ]
     },
     "metadata": {},
     "output_type": "display_data"
    },
    {
     "data": {
      "application/vnd.jupyter.widget-view+json": {
       "model_id": "",
       "version_major": 2,
       "version_minor": 0
      },
      "text/plain": [
       "Validation: 0it [00:00, ?it/s]"
      ]
     },
     "metadata": {},
     "output_type": "display_data"
    },
    {
     "data": {
      "application/vnd.jupyter.widget-view+json": {
       "model_id": "",
       "version_major": 2,
       "version_minor": 0
      },
      "text/plain": [
       "Validation: 0it [00:00, ?it/s]"
      ]
     },
     "metadata": {},
     "output_type": "display_data"
    },
    {
     "data": {
      "application/vnd.jupyter.widget-view+json": {
       "model_id": "",
       "version_major": 2,
       "version_minor": 0
      },
      "text/plain": [
       "Validation: 0it [00:00, ?it/s]"
      ]
     },
     "metadata": {},
     "output_type": "display_data"
    },
    {
     "data": {
      "application/vnd.jupyter.widget-view+json": {
       "model_id": "",
       "version_major": 2,
       "version_minor": 0
      },
      "text/plain": [
       "Validation: 0it [00:00, ?it/s]"
      ]
     },
     "metadata": {},
     "output_type": "display_data"
    },
    {
     "data": {
      "application/vnd.jupyter.widget-view+json": {
       "model_id": "",
       "version_major": 2,
       "version_minor": 0
      },
      "text/plain": [
       "Validation: 0it [00:00, ?it/s]"
      ]
     },
     "metadata": {},
     "output_type": "display_data"
    },
    {
     "data": {
      "application/vnd.jupyter.widget-view+json": {
       "model_id": "",
       "version_major": 2,
       "version_minor": 0
      },
      "text/plain": [
       "Validation: 0it [00:00, ?it/s]"
      ]
     },
     "metadata": {},
     "output_type": "display_data"
    },
    {
     "data": {
      "application/vnd.jupyter.widget-view+json": {
       "model_id": "",
       "version_major": 2,
       "version_minor": 0
      },
      "text/plain": [
       "Validation: 0it [00:00, ?it/s]"
      ]
     },
     "metadata": {},
     "output_type": "display_data"
    },
    {
     "data": {
      "application/vnd.jupyter.widget-view+json": {
       "model_id": "",
       "version_major": 2,
       "version_minor": 0
      },
      "text/plain": [
       "Validation: 0it [00:00, ?it/s]"
      ]
     },
     "metadata": {},
     "output_type": "display_data"
    },
    {
     "data": {
      "application/vnd.jupyter.widget-view+json": {
       "model_id": "",
       "version_major": 2,
       "version_minor": 0
      },
      "text/plain": [
       "Validation: 0it [00:00, ?it/s]"
      ]
     },
     "metadata": {},
     "output_type": "display_data"
    },
    {
     "data": {
      "application/vnd.jupyter.widget-view+json": {
       "model_id": "",
       "version_major": 2,
       "version_minor": 0
      },
      "text/plain": [
       "Validation: 0it [00:00, ?it/s]"
      ]
     },
     "metadata": {},
     "output_type": "display_data"
    },
    {
     "data": {
      "application/vnd.jupyter.widget-view+json": {
       "model_id": "",
       "version_major": 2,
       "version_minor": 0
      },
      "text/plain": [
       "Validation: 0it [00:00, ?it/s]"
      ]
     },
     "metadata": {},
     "output_type": "display_data"
    },
    {
     "data": {
      "application/vnd.jupyter.widget-view+json": {
       "model_id": "",
       "version_major": 2,
       "version_minor": 0
      },
      "text/plain": [
       "Validation: 0it [00:00, ?it/s]"
      ]
     },
     "metadata": {},
     "output_type": "display_data"
    },
    {
     "data": {
      "application/vnd.jupyter.widget-view+json": {
       "model_id": "",
       "version_major": 2,
       "version_minor": 0
      },
      "text/plain": [
       "Validation: 0it [00:00, ?it/s]"
      ]
     },
     "metadata": {},
     "output_type": "display_data"
    },
    {
     "data": {
      "application/vnd.jupyter.widget-view+json": {
       "model_id": "",
       "version_major": 2,
       "version_minor": 0
      },
      "text/plain": [
       "Validation: 0it [00:00, ?it/s]"
      ]
     },
     "metadata": {},
     "output_type": "display_data"
    },
    {
     "data": {
      "application/vnd.jupyter.widget-view+json": {
       "model_id": "",
       "version_major": 2,
       "version_minor": 0
      },
      "text/plain": [
       "Validation: 0it [00:00, ?it/s]"
      ]
     },
     "metadata": {},
     "output_type": "display_data"
    },
    {
     "data": {
      "application/vnd.jupyter.widget-view+json": {
       "model_id": "",
       "version_major": 2,
       "version_minor": 0
      },
      "text/plain": [
       "Validation: 0it [00:00, ?it/s]"
      ]
     },
     "metadata": {},
     "output_type": "display_data"
    },
    {
     "data": {
      "application/vnd.jupyter.widget-view+json": {
       "model_id": "",
       "version_major": 2,
       "version_minor": 0
      },
      "text/plain": [
       "Validation: 0it [00:00, ?it/s]"
      ]
     },
     "metadata": {},
     "output_type": "display_data"
    },
    {
     "data": {
      "application/vnd.jupyter.widget-view+json": {
       "model_id": "",
       "version_major": 2,
       "version_minor": 0
      },
      "text/plain": [
       "Validation: 0it [00:00, ?it/s]"
      ]
     },
     "metadata": {},
     "output_type": "display_data"
    },
    {
     "data": {
      "application/vnd.jupyter.widget-view+json": {
       "model_id": "",
       "version_major": 2,
       "version_minor": 0
      },
      "text/plain": [
       "Validation: 0it [00:00, ?it/s]"
      ]
     },
     "metadata": {},
     "output_type": "display_data"
    },
    {
     "data": {
      "application/vnd.jupyter.widget-view+json": {
       "model_id": "",
       "version_major": 2,
       "version_minor": 0
      },
      "text/plain": [
       "Validation: 0it [00:00, ?it/s]"
      ]
     },
     "metadata": {},
     "output_type": "display_data"
    },
    {
     "data": {
      "application/vnd.jupyter.widget-view+json": {
       "model_id": "",
       "version_major": 2,
       "version_minor": 0
      },
      "text/plain": [
       "Validation: 0it [00:00, ?it/s]"
      ]
     },
     "metadata": {},
     "output_type": "display_data"
    },
    {
     "data": {
      "application/vnd.jupyter.widget-view+json": {
       "model_id": "",
       "version_major": 2,
       "version_minor": 0
      },
      "text/plain": [
       "Validation: 0it [00:00, ?it/s]"
      ]
     },
     "metadata": {},
     "output_type": "display_data"
    },
    {
     "data": {
      "application/vnd.jupyter.widget-view+json": {
       "model_id": "",
       "version_major": 2,
       "version_minor": 0
      },
      "text/plain": [
       "Validation: 0it [00:00, ?it/s]"
      ]
     },
     "metadata": {},
     "output_type": "display_data"
    },
    {
     "data": {
      "application/vnd.jupyter.widget-view+json": {
       "model_id": "",
       "version_major": 2,
       "version_minor": 0
      },
      "text/plain": [
       "Validation: 0it [00:00, ?it/s]"
      ]
     },
     "metadata": {},
     "output_type": "display_data"
    },
    {
     "data": {
      "application/vnd.jupyter.widget-view+json": {
       "model_id": "",
       "version_major": 2,
       "version_minor": 0
      },
      "text/plain": [
       "Validation: 0it [00:00, ?it/s]"
      ]
     },
     "metadata": {},
     "output_type": "display_data"
    },
    {
     "data": {
      "application/vnd.jupyter.widget-view+json": {
       "model_id": "",
       "version_major": 2,
       "version_minor": 0
      },
      "text/plain": [
       "Validation: 0it [00:00, ?it/s]"
      ]
     },
     "metadata": {},
     "output_type": "display_data"
    },
    {
     "data": {
      "application/vnd.jupyter.widget-view+json": {
       "model_id": "",
       "version_major": 2,
       "version_minor": 0
      },
      "text/plain": [
       "Validation: 0it [00:00, ?it/s]"
      ]
     },
     "metadata": {},
     "output_type": "display_data"
    },
    {
     "data": {
      "application/vnd.jupyter.widget-view+json": {
       "model_id": "",
       "version_major": 2,
       "version_minor": 0
      },
      "text/plain": [
       "Validation: 0it [00:00, ?it/s]"
      ]
     },
     "metadata": {},
     "output_type": "display_data"
    },
    {
     "data": {
      "application/vnd.jupyter.widget-view+json": {
       "model_id": "",
       "version_major": 2,
       "version_minor": 0
      },
      "text/plain": [
       "Validation: 0it [00:00, ?it/s]"
      ]
     },
     "metadata": {},
     "output_type": "display_data"
    },
    {
     "data": {
      "application/vnd.jupyter.widget-view+json": {
       "model_id": "",
       "version_major": 2,
       "version_minor": 0
      },
      "text/plain": [
       "Validation: 0it [00:00, ?it/s]"
      ]
     },
     "metadata": {},
     "output_type": "display_data"
    },
    {
     "data": {
      "application/vnd.jupyter.widget-view+json": {
       "model_id": "",
       "version_major": 2,
       "version_minor": 0
      },
      "text/plain": [
       "Validation: 0it [00:00, ?it/s]"
      ]
     },
     "metadata": {},
     "output_type": "display_data"
    },
    {
     "data": {
      "application/vnd.jupyter.widget-view+json": {
       "model_id": "",
       "version_major": 2,
       "version_minor": 0
      },
      "text/plain": [
       "Validation: 0it [00:00, ?it/s]"
      ]
     },
     "metadata": {},
     "output_type": "display_data"
    },
    {
     "data": {
      "application/vnd.jupyter.widget-view+json": {
       "model_id": "",
       "version_major": 2,
       "version_minor": 0
      },
      "text/plain": [
       "Validation: 0it [00:00, ?it/s]"
      ]
     },
     "metadata": {},
     "output_type": "display_data"
    },
    {
     "data": {
      "application/vnd.jupyter.widget-view+json": {
       "model_id": "",
       "version_major": 2,
       "version_minor": 0
      },
      "text/plain": [
       "Validation: 0it [00:00, ?it/s]"
      ]
     },
     "metadata": {},
     "output_type": "display_data"
    },
    {
     "data": {
      "application/vnd.jupyter.widget-view+json": {
       "model_id": "",
       "version_major": 2,
       "version_minor": 0
      },
      "text/plain": [
       "Validation: 0it [00:00, ?it/s]"
      ]
     },
     "metadata": {},
     "output_type": "display_data"
    },
    {
     "data": {
      "application/vnd.jupyter.widget-view+json": {
       "model_id": "",
       "version_major": 2,
       "version_minor": 0
      },
      "text/plain": [
       "Validation: 0it [00:00, ?it/s]"
      ]
     },
     "metadata": {},
     "output_type": "display_data"
    },
    {
     "data": {
      "application/vnd.jupyter.widget-view+json": {
       "model_id": "",
       "version_major": 2,
       "version_minor": 0
      },
      "text/plain": [
       "Validation: 0it [00:00, ?it/s]"
      ]
     },
     "metadata": {},
     "output_type": "display_data"
    },
    {
     "name": "stderr",
     "output_type": "stream",
     "text": [
      "`Trainer.fit` stopped: `max_epochs=100` reached.\n"
     ]
    }
   ],
   "source": [
    "from lightning.pytorch import Trainer\n",
    "from lightning.pytorch.loggers import CSVLogger\n",
    "logger = CSVLogger(\"logs\", name=\"baseline_cnn-01\")  # saves the metrics (as csv) in the \"log\"\n",
    "\n",
    "model = LightningCNN()\n",
    "trainer = pl.Trainer(max_epochs=100, logger=logger)\n",
    "trainer.fit(model, train_loader, val_loader) # val_loader is used for validation during model training"
   ]
  },
  {
   "cell_type": "markdown",
   "id": "ecee0fd8",
   "metadata": {},
   "source": [
    "Validation is usually done during training, traditionally after each training epoch. It can be used for hyperparameter optimization or tracking model performance during training. It’s a part of the training process."
   ]
  },
  {
   "cell_type": "markdown",
   "id": "f9b0609e",
   "metadata": {},
   "source": [
    "## Model Evaluation: Testing\n",
    "\n",
    "Testing is usually done once we are satisfied with the training and only with the best model selected from the validation metrics."
   ]
  },
  {
   "cell_type": "code",
   "execution_count": 79,
   "id": "8e64e408",
   "metadata": {
    "ExecuteTime": {
     "end_time": "2023-04-24T06:19:46.029554Z",
     "start_time": "2023-04-24T06:19:45.825015Z"
    }
   },
   "outputs": [
    {
     "name": "stderr",
     "output_type": "stream",
     "text": [
      "Restoring states from the checkpoint path at logs/baseline_cnn-01/version_0/checkpoints/epoch=99-step=12600-v1.ckpt\n",
      "LOCAL_RANK: 0 - CUDA_VISIBLE_DEVICES: [0]\n",
      "Loaded model weights from the checkpoint at logs/baseline_cnn-01/version_0/checkpoints/epoch=99-step=12600-v1.ckpt\n",
      "/home/mverdeprado/.conda/envs/msds2023-ml3-cnn/lib/python3.8/site-packages/pytorch_lightning/trainer/connectors/data_connector.py:430: PossibleUserWarning: The dataloader, test_dataloader, does not have many workers which may be a bottleneck. Consider increasing the value of the `num_workers` argument` (try 32 which is the number of cpus on this machine) in the `DataLoader` init to improve performance.\n",
      "  rank_zero_warn(\n"
     ]
    },
    {
     "data": {
      "application/vnd.jupyter.widget-view+json": {
       "model_id": "a9ef2dbb44c8445fbfba9cbd0a91dca9",
       "version_major": 2,
       "version_minor": 0
      },
      "text/plain": [
       "Testing: 0it [00:00, ?it/s]"
      ]
     },
     "metadata": {},
     "output_type": "display_data"
    },
    {
     "name": "stdout",
     "output_type": "stream",
     "text": [
      "────────────────────────────────────────────────────────────────────────────────────────────────────────────────────────\n",
      "       Test metric             DataLoader 0\n",
      "────────────────────────────────────────────────────────────────────────────────────────────────────────────────────────\n",
      "        test_acc            0.8700000047683716\n",
      "        test_loss            0.297913521528244\n",
      "────────────────────────────────────────────────────────────────────────────────────────────────────────────────────────\n"
     ]
    },
    {
     "data": {
      "text/plain": [
       "[{'test_acc': 0.8700000047683716, 'test_loss': 0.297913521528244}]"
      ]
     },
     "execution_count": 79,
     "metadata": {},
     "output_type": "execute_result"
    }
   ],
   "source": [
    "trainer.test(model, test_loader, ckpt_path=\"best\")"
   ]
  },
  {
   "cell_type": "markdown",
   "id": "56b5d6c0",
   "metadata": {},
   "source": [
    "For visualization, you may use Tensorboard (currently available in Google Colab)."
   ]
  },
  {
   "cell_type": "code",
   "execution_count": 35,
   "id": "761a0fb0",
   "metadata": {
    "ExecuteTime": {
     "end_time": "2023-04-23T13:19:12.304539Z",
     "start_time": "2023-04-23T13:18:11.794835Z"
    }
   },
   "outputs": [
    {
     "data": {
      "text/plain": [
       "ERROR: Timed out waiting for TensorBoard to start. It may still be running as pid 120239."
      ]
     },
     "metadata": {},
     "output_type": "display_data"
    }
   ],
   "source": [
    "# Start tensorboard.\n",
    "# %load_ext tensorboard\n",
    "# %tensorboard --logdir lightning_logs/"
   ]
  },
  {
   "cell_type": "markdown",
   "id": "0286baa4",
   "metadata": {},
   "source": [
    "Or you may also use the CSV logger."
   ]
  },
  {
   "cell_type": "code",
   "execution_count": 50,
   "id": "4356843a",
   "metadata": {
    "ExecuteTime": {
     "end_time": "2023-04-24T02:52:00.515411Z",
     "start_time": "2023-04-24T02:51:58.520257Z"
    }
   },
   "outputs": [
    {
     "data": {
      "text/html": [
       "<div>\n",
       "<style scoped>\n",
       "    .dataframe tbody tr th:only-of-type {\n",
       "        vertical-align: middle;\n",
       "    }\n",
       "\n",
       "    .dataframe tbody tr th {\n",
       "        vertical-align: top;\n",
       "    }\n",
       "\n",
       "    .dataframe thead th {\n",
       "        text-align: right;\n",
       "    }\n",
       "</style>\n",
       "<table border=\"1\" class=\"dataframe\">\n",
       "  <thead>\n",
       "    <tr style=\"text-align: right;\">\n",
       "      <th></th>\n",
       "      <th>train_acc</th>\n",
       "      <th>train_loss</th>\n",
       "      <th>epoch</th>\n",
       "      <th>step</th>\n",
       "      <th>val_acc</th>\n",
       "      <th>val_loss</th>\n",
       "      <th>test_acc</th>\n",
       "      <th>test_loss</th>\n",
       "    </tr>\n",
       "  </thead>\n",
       "  <tbody>\n",
       "    <tr>\n",
       "      <th>0</th>\n",
       "      <td>0.625000</td>\n",
       "      <td>0.672977</td>\n",
       "      <td>0</td>\n",
       "      <td>49</td>\n",
       "      <td>NaN</td>\n",
       "      <td>NaN</td>\n",
       "      <td>NaN</td>\n",
       "      <td>NaN</td>\n",
       "    </tr>\n",
       "    <tr>\n",
       "      <th>1</th>\n",
       "      <td>0.656250</td>\n",
       "      <td>0.668710</td>\n",
       "      <td>0</td>\n",
       "      <td>99</td>\n",
       "      <td>NaN</td>\n",
       "      <td>NaN</td>\n",
       "      <td>NaN</td>\n",
       "      <td>NaN</td>\n",
       "    </tr>\n",
       "    <tr>\n",
       "      <th>2</th>\n",
       "      <td>NaN</td>\n",
       "      <td>NaN</td>\n",
       "      <td>0</td>\n",
       "      <td>125</td>\n",
       "      <td>0.691872</td>\n",
       "      <td>0.653568</td>\n",
       "      <td>NaN</td>\n",
       "      <td>NaN</td>\n",
       "    </tr>\n",
       "    <tr>\n",
       "      <th>3</th>\n",
       "      <td>0.750000</td>\n",
       "      <td>0.633268</td>\n",
       "      <td>1</td>\n",
       "      <td>149</td>\n",
       "      <td>NaN</td>\n",
       "      <td>NaN</td>\n",
       "      <td>NaN</td>\n",
       "      <td>NaN</td>\n",
       "    </tr>\n",
       "    <tr>\n",
       "      <th>4</th>\n",
       "      <td>0.734375</td>\n",
       "      <td>0.603591</td>\n",
       "      <td>1</td>\n",
       "      <td>199</td>\n",
       "      <td>NaN</td>\n",
       "      <td>NaN</td>\n",
       "      <td>NaN</td>\n",
       "      <td>NaN</td>\n",
       "    </tr>\n",
       "    <tr>\n",
       "      <th>...</th>\n",
       "      <td>...</td>\n",
       "      <td>...</td>\n",
       "      <td>...</td>\n",
       "      <td>...</td>\n",
       "      <td>...</td>\n",
       "      <td>...</td>\n",
       "      <td>...</td>\n",
       "      <td>...</td>\n",
       "    </tr>\n",
       "    <tr>\n",
       "      <th>348</th>\n",
       "      <td>0.890625</td>\n",
       "      <td>0.197895</td>\n",
       "      <td>99</td>\n",
       "      <td>12499</td>\n",
       "      <td>NaN</td>\n",
       "      <td>NaN</td>\n",
       "      <td>NaN</td>\n",
       "      <td>NaN</td>\n",
       "    </tr>\n",
       "    <tr>\n",
       "      <th>349</th>\n",
       "      <td>0.875000</td>\n",
       "      <td>0.259997</td>\n",
       "      <td>99</td>\n",
       "      <td>12549</td>\n",
       "      <td>NaN</td>\n",
       "      <td>NaN</td>\n",
       "      <td>NaN</td>\n",
       "      <td>NaN</td>\n",
       "    </tr>\n",
       "    <tr>\n",
       "      <th>350</th>\n",
       "      <td>0.910714</td>\n",
       "      <td>0.282732</td>\n",
       "      <td>99</td>\n",
       "      <td>12599</td>\n",
       "      <td>NaN</td>\n",
       "      <td>NaN</td>\n",
       "      <td>NaN</td>\n",
       "      <td>NaN</td>\n",
       "    </tr>\n",
       "    <tr>\n",
       "      <th>351</th>\n",
       "      <td>NaN</td>\n",
       "      <td>NaN</td>\n",
       "      <td>99</td>\n",
       "      <td>12599</td>\n",
       "      <td>0.881173</td>\n",
       "      <td>0.288567</td>\n",
       "      <td>NaN</td>\n",
       "      <td>NaN</td>\n",
       "    </tr>\n",
       "    <tr>\n",
       "      <th>352</th>\n",
       "      <td>NaN</td>\n",
       "      <td>NaN</td>\n",
       "      <td>100</td>\n",
       "      <td>12600</td>\n",
       "      <td>NaN</td>\n",
       "      <td>NaN</td>\n",
       "      <td>0.875</td>\n",
       "      <td>0.285299</td>\n",
       "    </tr>\n",
       "  </tbody>\n",
       "</table>\n",
       "<p>353 rows × 8 columns</p>\n",
       "</div>"
      ],
      "text/plain": [
       "     train_acc  train_loss  epoch   step   val_acc  val_loss  test_acc   \n",
       "0     0.625000    0.672977      0     49       NaN       NaN       NaN  \\\n",
       "1     0.656250    0.668710      0     99       NaN       NaN       NaN   \n",
       "2          NaN         NaN      0    125  0.691872  0.653568       NaN   \n",
       "3     0.750000    0.633268      1    149       NaN       NaN       NaN   \n",
       "4     0.734375    0.603591      1    199       NaN       NaN       NaN   \n",
       "..         ...         ...    ...    ...       ...       ...       ...   \n",
       "348   0.890625    0.197895     99  12499       NaN       NaN       NaN   \n",
       "349   0.875000    0.259997     99  12549       NaN       NaN       NaN   \n",
       "350   0.910714    0.282732     99  12599       NaN       NaN       NaN   \n",
       "351        NaN         NaN     99  12599  0.881173  0.288567       NaN   \n",
       "352        NaN         NaN    100  12600       NaN       NaN     0.875   \n",
       "\n",
       "     test_loss  \n",
       "0          NaN  \n",
       "1          NaN  \n",
       "2          NaN  \n",
       "3          NaN  \n",
       "4          NaN  \n",
       "..         ...  \n",
       "348        NaN  \n",
       "349        NaN  \n",
       "350        NaN  \n",
       "351        NaN  \n",
       "352   0.285299  \n",
       "\n",
       "[353 rows x 8 columns]"
      ]
     },
     "execution_count": 50,
     "metadata": {},
     "output_type": "execute_result"
    }
   ],
   "source": [
    "import pandas as pd\n",
    "# read the csv file from the logs\n",
    "df = pd.read_csv(\"logs/baseline_cnn-01/version_0/metrics.csv\")\n",
    "df"
   ]
  },
  {
   "cell_type": "code",
   "execution_count": 65,
   "id": "9bf5e72d",
   "metadata": {
    "ExecuteTime": {
     "end_time": "2023-04-24T04:35:26.134593Z",
     "start_time": "2023-04-24T04:35:26.129332Z"
    }
   },
   "outputs": [],
   "source": [
    "val_acc = df.val_acc.dropna()\n",
    "train_acc = df.train_acc.dropna()"
   ]
  },
  {
   "cell_type": "code",
   "execution_count": 75,
   "id": "01b42b28",
   "metadata": {
    "ExecuteTime": {
     "end_time": "2023-04-24T04:37:37.400760Z",
     "start_time": "2023-04-24T04:37:36.720119Z"
    }
   },
   "outputs": [
    {
     "data": {
      "text/plain": [
       "<Axes: >"
      ]
     },
     "execution_count": 75,
     "metadata": {},
     "output_type": "execute_result"
    },
    {
     "data": {
      "image/png": "[encoded data removed]",
      "text/plain": [
       "<Figure size 640x480 with 1 Axes>"
      ]
     },
     "metadata": {},
     "output_type": "display_data"
    }
   ],
   "source": [
    "fig, ax = plt.subplots()\n",
    "train_acc[::2].plot(ax=ax, color='tab:blue')\n",
    "val_acc.plot(ax=ax, color='tab:orange')"
   ]
  },
  {
   "cell_type": "code",
   "execution_count": 77,
   "id": "006a3255",
   "metadata": {
    "ExecuteTime": {
     "end_time": "2023-04-24T04:38:11.165961Z",
     "start_time": "2023-04-24T04:38:10.900969Z"
    },
    "scrolled": false
   },
   "outputs": [
    {
     "data": {
      "text/plain": [
       "<Axes: >"
      ]
     },
     "execution_count": 77,
     "metadata": {},
     "output_type": "execute_result"
    },
    {
     "data": {
      "image/png": "[encoded data removed]",
      "text/plain": [
       "<Figure size 640x480 with 1 Axes>"
      ]
     },
     "metadata": {},
     "output_type": "display_data"
    }
   ],
   "source": [
    "val_loss = df.val_loss.dropna()\n",
    "train_loss = df.train_loss.dropna()\n",
    "\n",
    "fig, ax = plt.subplots()\n",
    "train_loss[::2].plot(ax=ax, color='tab:blue')\n",
    "val_loss.plot(ax=ax, color='tab:orange')"
   ]
  },
  {
   "cell_type": "markdown",
   "id": "901fa4c8",
   "metadata": {},
   "source": [
    "# References:\n",
    "\n",
    "* Falcon, W. (2020, November 8). *From PyTorch to PyTorch Lightning — A gentle introduction*. Medium. Retrieved April 17, 2023, from https://towardsdatascience.com/from-pytorch-to-pytorch-lightning-a-gentle-introduction-b371b7caaf09\n",
    "* L. A. (n.d.). *GitHub - Lightning-AI/lightning: Deep learning framework to train, deploy, and ship AI products Lightning fast*. GitHub. Retrieved April 17, 2023, from https://github.com/Lightning-AI/lightning\n",
    "* *PyTorch Lightning*. (n.d.). PyTorch Lightning. Retrieved April 17, 2023, from https://www.pytorchlightning.ai/index.html\n",
    "* Viehmann, T., Stevens, E., Antiga, L. P. G. (2020). *Deep Learning with PyTorch*. United States: Manning."
   ]
  }
 ],
 "metadata": {
  "kernelspec": {
   "display_name": "Python [conda env:.conda-msds2023-ml3-cnn]",
   "language": "python",
   "name": "conda-env-.conda-msds2023-ml3-cnn-py"
  },
  "language_info": {
   "codemirror_mode": {
    "name": "ipython",
    "version": 3
   },
   "file_extension": ".py",
   "mimetype": "text/x-python",
   "name": "python",
   "nbconvert_exporter": "python",
   "pygments_lexer": "ipython3",
   "version": "3.8.16"
  },
  "toc": {
   "base_numbering": 1,
   "nav_menu": {},
   "number_sections": true,
   "sideBar": true,
   "skip_h1_title": false,
   "title_cell": "Table of Contents",
   "title_sidebar": "Contents",
   "toc_cell": false,
   "toc_position": {},
   "toc_section_display": true,
   "toc_window_display": false
  }
 },
 "nbformat": 4,
 "nbformat_minor": 5
}
