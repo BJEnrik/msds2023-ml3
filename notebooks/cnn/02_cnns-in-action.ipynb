{
 "cells": [
  {
   "cell_type": "code",
   "execution_count": 1,
   "id": "8a54002f",
   "metadata": {
    "ExecuteTime": {
     "end_time": "2023-04-14T06:40:35.827789Z",
     "start_time": "2023-04-14T06:40:32.879347Z"
    }
   },
   "outputs": [],
   "source": [
    "import torch"
   ]
  },
  {
   "cell_type": "code",
   "execution_count": 2,
   "id": "4795a06d",
   "metadata": {
    "ExecuteTime": {
     "end_time": "2023-04-14T06:40:35.889103Z",
     "start_time": "2023-04-14T06:40:35.830917Z"
    }
   },
   "outputs": [
    {
     "data": {
      "text/plain": [
       "True"
      ]
     },
     "execution_count": 2,
     "metadata": {},
     "output_type": "execute_result"
    }
   ],
   "source": [
    "torch.cuda.is_available()"
   ]
  },
  {
   "cell_type": "markdown",
   "id": "53defe12",
   "metadata": {},
   "source": [
    "# Convolutional Neural Networks in Action <a class='tocSkip'>"
   ]
  },
  {
   "cell_type": "markdown",
   "id": "bd2cf4d3",
   "metadata": {},
   "source": [
    "*Machine Learning 3*\n",
    "\n",
    "*Prepared by Leodegario Lorenzo II*\n",
    "\n",
    "References:\n",
    "\n",
    "1. Deep Learning with PyTorch, Eli Stevents, Luca Antga, Thomas Viehmann (2022, Manning Publications)\n",
    "2. Deep Learning with Python, Francois Chollet, (2018, Manning Publications)\n",
    "3. Deep Learning for Coders with fastai and PyTorch, Jeremy Howard, Sylvain Gugger (2022, O'Reilly Media)"
   ]
  },
  {
   "cell_type": "markdown",
   "id": "693d42bd",
   "metadata": {},
   "source": [
    "## 0 PyTorch for deep learning <a class='tocSkip'>"
   ]
  },
  {
   "cell_type": "markdown",
   "id": "f3e311dc",
   "metadata": {},
   "source": [
    "**What is PyTorch?**\n",
    "\n",
    "PyTorch is a library for Python programs that facilitates building deep learning projects. It emphasizes flexibiity and allows deep learning models to be expressed in idiomatic Python.\n",
    "\n",
    "**Why PyTorch?**\n",
    "\n",
    "PyTorch is a suitable framework for deep learning projects for various reasons:\n",
    "\n",
    "1. It is simple. Users find it easy to learn, use, extend, and debug. It is not a framework allowing developers to be more expressive enabling them to implement complicated models without undue complexity.\n",
    "2. Deep learning is very natural in PyTorch. Its syntax is Pythonic, it feels very familiar to developers who have used Python previously.  It also provides facilities that support numerical optimizations on generic mathematical expressions which deep learning uses for training.\n",
    "3. Provides accelerated computation using GPUs and can be employed to use multiple machines during training. PyTorch was initially focused on research wor.kflows. Used C++ runtime that can be used to deploy models for inference without relying on Python.\n",
    "\n",
    "**What is the usual structure of a PyTorch project?**\n",
    "\n",
    "<img src='./images/pytorch-project.png' width=650/>"
   ]
  },
  {
   "cell_type": "markdown",
   "id": "1d02d948",
   "metadata": {},
   "source": [
    "First, we need to physically get the dat most often from some storage. Then convert each sample to something that PyTorch can read: *tensors*. The training loop is usually implemented as a standard Python `for` loop. Afterwards, the model can be deployed on a server or export into a cloud engine or integrated in an application."
   ]
  },
  {
   "cell_type": "markdown",
   "id": "352e360a",
   "metadata": {},
   "source": [
    "## CIFAR-10 Dataset"
   ]
  },
  {
   "cell_type": "markdown",
   "id": "9619f4e2",
   "metadata": {},
   "source": [
    "The dataset that we will use in our discussion is the CIFAR-10 dataset (https://www.cs.toronto.edu/~kriz/cifar.html). It is a dataset that consists of tiny 32 x 32 RGB images labeled with an integer corresponding to 1 of 10 classes: airplane, automobile, bird, cat, deer, dog, frog, horse, ship, truck.\n",
    "\n",
    "We will use `torchvision` to download these datasets directly onto our local machines."
   ]
  },
  {
   "cell_type": "code",
   "execution_count": 3,
   "id": "16f8ee0d",
   "metadata": {
    "ExecuteTime": {
     "end_time": "2023-04-14T06:40:36.251898Z",
     "start_time": "2023-04-14T06:40:35.894272Z"
    }
   },
   "outputs": [],
   "source": [
    "from torchvision import datasets"
   ]
  },
  {
   "cell_type": "code",
   "execution_count": 4,
   "id": "d912864f",
   "metadata": {
    "ExecuteTime": {
     "end_time": "2023-04-14T06:40:38.300603Z",
     "start_time": "2023-04-14T06:40:36.255559Z"
    }
   },
   "outputs": [
    {
     "name": "stdout",
     "output_type": "stream",
     "text": [
      "Files already downloaded and verified\n",
      "Files already downloaded and verified\n"
     ]
    }
   ],
   "source": [
    "data_path = './data/cifar-10/'\n",
    "class_names = ['airplane', 'automobile', 'bird', 'cat', 'deer', 'dog', 'frog',\n",
    "               'horse', 'ship', 'truck']\n",
    "\n",
    "cifar10 = datasets.CIFAR10(data_path, train=True, download=True)\n",
    "cifar10_val = datasets.CIFAR10(data_path, train=False, download=True)"
   ]
  },
  {
   "cell_type": "markdown",
   "id": "a83900a1",
   "metadata": {},
   "source": [
    "We can inspect the datasets by directly indexing the `Dataset` object"
   ]
  },
  {
   "cell_type": "code",
   "execution_count": 5,
   "id": "b2a80afc",
   "metadata": {
    "ExecuteTime": {
     "end_time": "2023-04-14T06:40:38.830152Z",
     "start_time": "2023-04-14T06:40:38.303419Z"
    }
   },
   "outputs": [],
   "source": [
    "import matplotlib.pyplot as plt"
   ]
  },
  {
   "cell_type": "code",
   "execution_count": 6,
   "id": "78421703",
   "metadata": {
    "ExecuteTime": {
     "end_time": "2023-04-14T06:40:38.838686Z",
     "start_time": "2023-04-14T06:40:38.832596Z"
    }
   },
   "outputs": [
    {
     "data": {
      "text/plain": [
       "(<PIL.Image.Image image mode=RGB size=32x32>, 1, 'automobile')"
      ]
     },
     "execution_count": 6,
     "metadata": {},
     "output_type": "execute_result"
    }
   ],
   "source": [
    "img, label = cifar10[99]\n",
    "img, label, class_names[label]"
   ]
  },
  {
   "cell_type": "code",
   "execution_count": 7,
   "id": "e0976d54",
   "metadata": {
    "ExecuteTime": {
     "end_time": "2023-04-14T06:40:38.924012Z",
     "start_time": "2023-04-14T06:40:38.841006Z"
    }
   },
   "outputs": [
    {
     "data": {
      "image/png": "[encoded data removed]",
      "text/plain": [
       "<Figure size 640x480 with 1 Axes>"
      ]
     },
     "metadata": {},
     "output_type": "display_data"
    }
   ],
   "source": [
    "fig, ax = plt.subplots()\n",
    "ax.imshow(img)\n",
    "ax.axis('off');"
   ]
  },
  {
   "cell_type": "markdown",
   "id": "0fc6b8aa",
   "metadata": {},
   "source": [
    "## Data Preprocessing"
   ]
  },
  {
   "cell_type": "markdown",
   "id": "3d6491ae",
   "metadata": {},
   "source": [
    "### Normalizing the data"
   ]
  },
  {
   "cell_type": "code",
   "execution_count": 8,
   "id": "acc001fd",
   "metadata": {
    "ExecuteTime": {
     "end_time": "2023-04-14T06:40:38.932109Z",
     "start_time": "2023-04-14T06:40:38.928175Z"
    }
   },
   "outputs": [],
   "source": [
    "from torchvision import transforms"
   ]
  },
  {
   "cell_type": "code",
   "execution_count": 9,
   "id": "1c4c63a9",
   "metadata": {
    "ExecuteTime": {
     "end_time": "2023-04-14T06:40:39.513858Z",
     "start_time": "2023-04-14T06:40:38.934664Z"
    }
   },
   "outputs": [],
   "source": [
    "tensor_cifar10 = datasets.CIFAR10(\n",
    "    data_path, train=True, download=False, transform=transforms.ToTensor())"
   ]
  },
  {
   "cell_type": "code",
   "execution_count": 10,
   "id": "878f04c0",
   "metadata": {
    "ExecuteTime": {
     "end_time": "2023-04-14T06:40:47.304220Z",
     "start_time": "2023-04-14T06:40:39.516692Z"
    }
   },
   "outputs": [],
   "source": [
    "imgs = torch.stack([img_t for img_t, _ in tensor_cifar10], dim=3)"
   ]
  },
  {
   "cell_type": "code",
   "execution_count": 11,
   "id": "296b217b",
   "metadata": {
    "ExecuteTime": {
     "end_time": "2023-04-14T06:40:47.338193Z",
     "start_time": "2023-04-14T06:40:47.306986Z"
    }
   },
   "outputs": [],
   "source": [
    "means = imgs.view(3, -1).mean(dim=1).numpy()"
   ]
  },
  {
   "cell_type": "code",
   "execution_count": 12,
   "id": "e817cc94",
   "metadata": {
    "ExecuteTime": {
     "end_time": "2023-04-14T06:40:47.758015Z",
     "start_time": "2023-04-14T06:40:47.340293Z"
    }
   },
   "outputs": [],
   "source": [
    "stds = imgs.view(3, -1).std(dim=1).numpy()"
   ]
  },
  {
   "cell_type": "code",
   "execution_count": 13,
   "id": "a8733455",
   "metadata": {
    "ExecuteTime": {
     "end_time": "2023-04-14T06:40:47.768723Z",
     "start_time": "2023-04-14T06:40:47.761017Z"
    }
   },
   "outputs": [
    {
     "data": {
      "text/plain": [
       "(array([0.49139965, 0.48215845, 0.44653094], dtype=float32),\n",
       " array([0.24703224, 0.24348514, 0.26158786], dtype=float32))"
      ]
     },
     "execution_count": 13,
     "metadata": {},
     "output_type": "execute_result"
    }
   ],
   "source": [
    "means, stds"
   ]
  },
  {
   "cell_type": "code",
   "execution_count": 14,
   "id": "f9824496",
   "metadata": {
    "ExecuteTime": {
     "end_time": "2023-04-14T06:40:47.775255Z",
     "start_time": "2023-04-14T06:40:47.771498Z"
    }
   },
   "outputs": [],
   "source": [
    "transformations = transforms.Compose([\n",
    "    transforms.ToTensor(),\n",
    "    transforms.Normalize(means, stds)\n",
    "])"
   ]
  },
  {
   "cell_type": "code",
   "execution_count": 15,
   "id": "077d768a",
   "metadata": {
    "ExecuteTime": {
     "end_time": "2023-04-14T06:40:48.293556Z",
     "start_time": "2023-04-14T06:40:47.779141Z"
    }
   },
   "outputs": [],
   "source": [
    "transformed_cifar10 = datasets.CIFAR10(\n",
    "    data_path, train=True, download=False,\n",
    "    transform=transformations\n",
    ")"
   ]
  },
  {
   "cell_type": "code",
   "execution_count": 16,
   "id": "6edf60bd",
   "metadata": {
    "ExecuteTime": {
     "end_time": "2023-04-14T06:40:48.686258Z",
     "start_time": "2023-04-14T06:40:48.297643Z"
    }
   },
   "outputs": [],
   "source": [
    "transformed_cifar10_val = datasets.CIFAR10(\n",
    "    data_path, train=False, download=False,\n",
    "    transform=transformations\n",
    ")"
   ]
  },
  {
   "cell_type": "markdown",
   "id": "6be4a839",
   "metadata": {},
   "source": [
    "### Is it a bird? Is it a plane?"
   ]
  },
  {
   "cell_type": "code",
   "execution_count": 17,
   "id": "7d4fc4e7",
   "metadata": {
    "ExecuteTime": {
     "end_time": "2023-04-14T06:41:01.168361Z",
     "start_time": "2023-04-14T06:40:48.688944Z"
    }
   },
   "outputs": [],
   "source": [
    "label_map = {0: 0, 2: 1}\n",
    "class_names = ['airplane', 'bird']\n",
    "cifar2 = [(img, label_map[label]) for img, label in transformed_cifar10 if label in [0, 2]]\n",
    "cifar2_val = [(img, label_map[label]) for img, label in transformed_cifar10_val if label in [0, 2]]"
   ]
  },
  {
   "cell_type": "markdown",
   "id": "74624260",
   "metadata": {},
   "source": [
    "### Data loader"
   ]
  },
  {
   "cell_type": "code",
   "execution_count": 18,
   "id": "dc553703",
   "metadata": {
    "ExecuteTime": {
     "end_time": "2023-04-14T06:41:01.176454Z",
     "start_time": "2023-04-14T06:41:01.171328Z"
    }
   },
   "outputs": [],
   "source": [
    "train_loader = torch.utils.data.DataLoader(cifar2, batch_size=64, shuffle=True)\n",
    "val_loader = torch.utils.data.DataLoader(cifar2_val, batch_size=64, shuffle=False)"
   ]
  },
  {
   "cell_type": "markdown",
   "id": "fe38e204",
   "metadata": {},
   "source": [
    "## Model Building"
   ]
  },
  {
   "cell_type": "markdown",
   "id": "07ed3649",
   "metadata": {},
   "source": [
    "<img src='./images/baseline-architecture.png' width=250/>"
   ]
  },
  {
   "cell_type": "code",
   "execution_count": 19,
   "id": "b6aa672c",
   "metadata": {
    "ExecuteTime": {
     "end_time": "2023-04-14T06:41:01.187007Z",
     "start_time": "2023-04-14T06:41:01.178507Z"
    }
   },
   "outputs": [],
   "source": [
    "from torch import nn\n",
    "import torch.nn.functional as F\n",
    "\n",
    "class Net(nn.Module):\n",
    "    def __init__(self):\n",
    "        super().__init__()\n",
    "        self.conv1 = nn.Conv2d(3, 16, kernel_size=3, padding=1)\n",
    "        self.conv2 = nn.Conv2d(16, 8, kernel_size=3, padding=1)\n",
    "        self.fc1 = nn.Linear(8 * 8 * 8, 32)\n",
    "        self.fc2 = nn.Linear(32, 2)\n",
    "    def forward(self, x):\n",
    "        out = F.max_pool2d(torch.tanh(self.conv1(x)), 2)\n",
    "        out = F.max_pool2d(torch.tanh(self.conv2(out)), 2)\n",
    "        out = out.view(-1, 8 * 8 * 8)\n",
    "        out = torch.tanh(self.fc1(out))\n",
    "        out = self.fc2(out)\n",
    "\n",
    "        return out"
   ]
  },
  {
   "cell_type": "code",
   "execution_count": 20,
   "id": "b381a3a4",
   "metadata": {
    "ExecuteTime": {
     "end_time": "2023-04-14T06:41:01.197863Z",
     "start_time": "2023-04-14T06:41:01.189508Z"
    }
   },
   "outputs": [
    {
     "data": {
      "text/plain": [
       "(18090, [432, 16, 1152, 8, 16384, 32, 64, 2])"
      ]
     },
     "execution_count": 20,
     "metadata": {},
     "output_type": "execute_result"
    }
   ],
   "source": [
    "model = Net()\n",
    "numel_list = [p.numel() for p in model.parameters()]\n",
    "sum(numel_list), numel_list"
   ]
  },
  {
   "cell_type": "markdown",
   "id": "b8679af0",
   "metadata": {},
   "source": [
    "## Model Training"
   ]
  },
  {
   "cell_type": "code",
   "execution_count": 21,
   "id": "2996ea63",
   "metadata": {
    "ExecuteTime": {
     "end_time": "2023-04-14T06:41:01.205412Z",
     "start_time": "2023-04-14T06:41:01.199404Z"
    }
   },
   "outputs": [],
   "source": [
    "import datetime\n",
    "\n",
    "def training_loop(n_epochs, optimizer, model, loss_fn, train_loader):\n",
    "    for epoch in range(1, n_epochs + 1):\n",
    "        loss_train = 0.0\n",
    "\n",
    "        for imgs, labels in train_loader:\n",
    "            outputs = model(imgs)\n",
    "            loss = loss_fn(outputs, labels)\n",
    "\n",
    "            optimizer.zero_grad()\n",
    "            loss.backward()\n",
    "            optimizer.step()\n",
    "\n",
    "            loss_train += loss.item()\n",
    "\n",
    "        if epoch == 1 or epoch % 10 == 0:\n",
    "            print('{} Epoch {}, Training loss {}'.format(\n",
    "                datetime.datetime.now(), epoch,\n",
    "                loss_train / len(train_loader)))"
   ]
  },
  {
   "cell_type": "code",
   "execution_count": 22,
   "id": "d4d94e0a",
   "metadata": {
    "ExecuteTime": {
     "end_time": "2023-04-14T06:41:01.209651Z",
     "start_time": "2023-04-14T06:41:01.207059Z"
    }
   },
   "outputs": [],
   "source": [
    "from torch import optim"
   ]
  },
  {
   "cell_type": "code",
   "execution_count": 23,
   "id": "206af97c",
   "metadata": {
    "ExecuteTime": {
     "end_time": "2023-04-14T06:39:33.457236Z",
     "start_time": "2023-04-14T06:38:21.232605Z"
    }
   },
   "outputs": [
    {
     "name": "stdout",
     "output_type": "stream",
     "text": [
      "2023-04-14 06:38:22.238977 Epoch 1, Training loss 0.579411323093305\n",
      "2023-04-14 06:38:28.994966 Epoch 10, Training loss 0.33024542536705165\n",
      "2023-04-14 06:38:35.793643 Epoch 20, Training loss 0.2915535759963807\n",
      "2023-04-14 06:38:42.423494 Epoch 30, Training loss 0.267597727809742\n",
      "2023-04-14 06:38:49.225015 Epoch 40, Training loss 0.24678098011738175\n",
      "2023-04-14 06:38:56.075038 Epoch 50, Training loss 0.2282219613623467\n",
      "2023-04-14 06:39:03.507108 Epoch 60, Training loss 0.2150772983670994\n",
      "2023-04-14 06:39:11.439463 Epoch 70, Training loss 0.19786105509016924\n",
      "2023-04-14 06:39:19.038775 Epoch 80, Training loss 0.18659346142582073\n",
      "2023-04-14 06:39:26.612989 Epoch 90, Training loss 0.16813478932069365\n",
      "2023-04-14 06:39:33.453152 Epoch 100, Training loss 0.15554255519987673\n"
     ]
    }
   ],
   "source": [
    "model = Net()\n",
    "optimizer = optim.SGD(model.parameters(), lr=1e-2)\n",
    "loss_fn = nn.CrossEntropyLoss()\n",
    "\n",
    "training_loop(100, optimizer, model, loss_fn, train_loader=train_loader)"
   ]
  },
  {
   "cell_type": "markdown",
   "id": "5821bf33",
   "metadata": {},
   "source": [
    "## Model Validation"
   ]
  },
  {
   "cell_type": "code",
   "execution_count": 24,
   "id": "0bcfc518",
   "metadata": {
    "ExecuteTime": {
     "end_time": "2023-04-14T06:39:33.467131Z",
     "start_time": "2023-04-14T06:39:33.460214Z"
    }
   },
   "outputs": [],
   "source": [
    "def validate(model, train_loader, val_loader):\n",
    "    for name, loader in [(\"train\", train_loader), (\"val\", val_loader)]:\n",
    "        correct = 0\n",
    "        total = 0\n",
    "\n",
    "        with torch.no_grad():\n",
    "            for imgs, labels in loader:\n",
    "                outputs = model(imgs)\n",
    "                _, predicted = torch.max(outputs, dim=1)\n",
    "                total += labels.shape[0]\n",
    "                correct += int((predicted == labels).sum())\n",
    "\n",
    "        print(\"Accuracy {}: {:.2f}\".format(name , correct / total))"
   ]
  },
  {
   "cell_type": "code",
   "execution_count": 25,
   "id": "cc7e6819",
   "metadata": {
    "ExecuteTime": {
     "end_time": "2023-04-14T06:39:33.925741Z",
     "start_time": "2023-04-14T06:39:33.469445Z"
    }
   },
   "outputs": [
    {
     "name": "stdout",
     "output_type": "stream",
     "text": [
      "Accuracy train: 0.92\n",
      "Accuracy val: 0.86\n"
     ]
    }
   ],
   "source": [
    "validate(model, train_loader, val_loader)"
   ]
  },
  {
   "cell_type": "markdown",
   "id": "d416778f",
   "metadata": {},
   "source": [
    "## Model Saving and Loading"
   ]
  },
  {
   "cell_type": "code",
   "execution_count": 26,
   "id": "798eb1f3",
   "metadata": {
    "ExecuteTime": {
     "end_time": "2023-04-14T06:39:33.935580Z",
     "start_time": "2023-04-14T06:39:33.928212Z"
    }
   },
   "outputs": [],
   "source": [
    "torch.save(model.state_dict(), './bird_or_plane.pt')"
   ]
  },
  {
   "cell_type": "code",
   "execution_count": 27,
   "id": "57306cb3",
   "metadata": {
    "ExecuteTime": {
     "end_time": "2023-04-14T06:39:33.947139Z",
     "start_time": "2023-04-14T06:39:33.938080Z"
    }
   },
   "outputs": [
    {
     "data": {
      "text/plain": [
       "<All keys matched successfully>"
      ]
     },
     "execution_count": 27,
     "metadata": {},
     "output_type": "execute_result"
    }
   ],
   "source": [
    "loaded_model = Net()\n",
    "loaded_model.load_state_dict(torch.load('./bird_or_plane.pt'))"
   ]
  },
  {
   "cell_type": "markdown",
   "id": "3453aaea",
   "metadata": {},
   "source": [
    "## Training on GPU"
   ]
  },
  {
   "cell_type": "code",
   "execution_count": 28,
   "id": "c126c84e",
   "metadata": {
    "ExecuteTime": {
     "end_time": "2023-04-14T07:23:40.965737Z",
     "start_time": "2023-04-14T07:23:40.955229Z"
    }
   },
   "outputs": [
    {
     "name": "stdout",
     "output_type": "stream",
     "text": [
      "Training on device cuda.\n"
     ]
    }
   ],
   "source": [
    "device = (torch.device('cuda') if torch.cuda.is_available()\n",
    "          else torch.device('cpu'))\n",
    "print(f\"Training on device {device}.\")"
   ]
  },
  {
   "cell_type": "code",
   "execution_count": 24,
   "id": "7600eaed",
   "metadata": {
    "ExecuteTime": {
     "end_time": "2023-04-14T06:41:01.222061Z",
     "start_time": "2023-04-14T06:41:01.217483Z"
    }
   },
   "outputs": [],
   "source": [
    "def training_loop(n_epochs, optimizer, model, loss_fn, train_loader):\n",
    "    for epoch in range(1, n_epochs + 1):\n",
    "        loss_train = 0.0\n",
    "        for imgs, labels in train_loader:\n",
    "            imgs = imgs.to(device=device)\n",
    "            labels = labels.to(device=device)\n",
    "            outputs = model(imgs)\n",
    "            loss = loss_fn(outputs, labels)\n",
    "\n",
    "            optimizer.zero_grad()\n",
    "            loss.backward()\n",
    "            optimizer.step()\n",
    "\n",
    "            loss_train += loss.item()\n",
    "\n",
    "        if epoch == 1 or epoch % 10 == 0:\n",
    "            print('{} Epoch {}, Training loss {}'.format(\n",
    "                datetime.datetime.now(), epoch,\n",
    "                loss_train / len(train_loader)))"
   ]
  },
  {
   "cell_type": "code",
   "execution_count": 27,
   "id": "1f337abc",
   "metadata": {
    "ExecuteTime": {
     "end_time": "2023-04-14T07:23:28.073544Z",
     "start_time": "2023-04-14T07:22:19.839338Z"
    }
   },
   "outputs": [
    {
     "name": "stdout",
     "output_type": "stream",
     "text": [
      "2023-04-14 07:22:23.549917 Epoch 1, Training loss 0.5618082770876064\n",
      "2023-04-14 07:22:29.373536 Epoch 10, Training loss 0.3326062721431635\n",
      "2023-04-14 07:22:35.613281 Epoch 20, Training loss 0.29601489263735\n",
      "2023-04-14 07:22:42.293188 Epoch 30, Training loss 0.26567471093812567\n",
      "2023-04-14 07:22:47.487144 Epoch 40, Training loss 0.24442960160553076\n",
      "2023-04-14 07:22:54.177078 Epoch 50, Training loss 0.2269245014543746\n",
      "2023-04-14 07:23:00.747240 Epoch 60, Training loss 0.212961825500628\n",
      "2023-04-14 07:23:07.613348 Epoch 70, Training loss 0.19840166399813003\n",
      "2023-04-14 07:23:14.386494 Epoch 80, Training loss 0.18440728349860308\n",
      "2023-04-14 07:23:21.257854 Epoch 90, Training loss 0.17215606857352195\n",
      "2023-04-14 07:23:28.067509 Epoch 100, Training loss 0.15774712830212465\n"
     ]
    }
   ],
   "source": [
    "model = Net().to(device=device)\n",
    "optimizer = optim.SGD(model.parameters(), lr=1e-2)\n",
    "loss_fn = nn.CrossEntropyLoss()\n",
    "\n",
    "training_loop(100, optimizer, model, loss_fn, train_loader=train_loader)"
   ]
  }
 ],
 "metadata": {
  "kernelspec": {
   "display_name": "Python [conda env:.conda-msds2023-ml3-cnn]",
   "language": "python",
   "name": "conda-env-.conda-msds2023-ml3-cnn-py"
  },
  "language_info": {
   "codemirror_mode": {
    "name": "ipython",
    "version": 3
   },
   "file_extension": ".py",
   "mimetype": "text/x-python",
   "name": "python",
   "nbconvert_exporter": "python",
   "pygments_lexer": "ipython3",
   "version": "3.8.16"
  },
  "toc": {
   "base_numbering": 1,
   "nav_menu": {},
   "number_sections": true,
   "sideBar": true,
   "skip_h1_title": false,
   "title_cell": "Table of Contents",
   "title_sidebar": "Contents",
   "toc_cell": false,
   "toc_position": {},
   "toc_section_display": true,
   "toc_window_display": false
  }
 },
 "nbformat": 4,
 "nbformat_minor": 5
}
